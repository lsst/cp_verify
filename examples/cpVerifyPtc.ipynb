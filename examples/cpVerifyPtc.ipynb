{
 "cells": [
  {
   "cell_type": "code",
   "execution_count": 2,
   "id": "8aa75eb3",
   "metadata": {},
   "outputs": [],
   "source": [
    "import matplotlib.pyplot as plt\n",
    "import numpy as np\n",
    "\n",
    "import lsst.daf.butler as dB\n",
    "import lsst.cp.verify.notebooks.utils as utils\n",
    "import lsst.afw.display as afwDisplay"
   ]
  },
  {
   "cell_type": "code",
   "execution_count": 3,
   "id": "84dccd11",
   "metadata": {},
   "outputs": [
    {
     "name": "stderr",
     "output_type": "stream",
     "text": [
      "/home/czw/.local/lib/python3.8/site-packages/ginga/cmap.py:13317: MatplotlibDeprecationWarning: The global colormaps dictionary is no longer considered public API.\n",
      "  for name in _cm.cmap_d:\n"
     ]
    }
   ],
   "source": [
    "# Which calibration type to analyse.\n",
    "calibType = 'ptc'\n",
    "\n",
    "# This cell should be edited to match the data to be inspected.\n",
    "afwDisplay.setDefaultBackend(\"astrowidgets\")\n",
    "cameraName = 'LATISS'\n",
    "genCollection = 'u/czw/DM-28920/ptcGen.20210712a'\n",
    "genCollection2 = 'u/czw/DM-28920/ptcGen.20210712b'"
   ]
  },
  {
   "cell_type": "code",
   "execution_count": 4,
   "id": "01855373",
   "metadata": {},
   "outputs": [],
   "source": [
    "# Get butler and camera\n",
    "butler = dB.Butler(\"/repo/main/\", collections=[genCollection, genCollection2])\n",
    "camera = butler.get('camera', instrument=cameraName)"
   ]
  },
  {
   "cell_type": "code",
   "execution_count": 5,
   "id": "486dabee",
   "metadata": {},
   "outputs": [],
   "source": [
    "ptcA = butler.get('ptc', instrument='LATISS', detector=0, collection=genCollection)\n",
    "ptcB = butler.get('ptc', instrument='LATISS', detector=0, collection=genCollection2)"
   ]
  },
  {
   "cell_type": "code",
   "execution_count": 6,
   "id": "ff8eb436",
   "metadata": {},
   "outputs": [
    {
     "data": {
      "image/png": "[encoded data removed]",
      "text/plain": [
       "<Figure size 432x288 with 1 Axes>"
      ]
     },
     "metadata": {
      "needs_background": "light"
     },
     "output_type": "display_data"
    },
    {
     "name": "stdout",
     "output_type": "stream",
     "text": [
      "C00 Continue? [c, q]q\n"
     ]
    }
   ],
   "source": [
    "continueDisplay=True\n",
    "for amp in ptcA.ampNames:\n",
    "    plt.scatter(ptcA.rawMeans[amp], ptcA.rawVars[amp], marker='o', label=\"PTCA\")\n",
    "\n",
    "    plt.scatter(ptcA.finalMeans[amp], ptcA.finalVars[amp], marker='+', label=\"PTCA\")\n",
    "    plt.scatter(ptcB.finalMeans[amp], ptcB.finalVars[amp], marker='x', label='PTCB')\n",
    "    plt.show()\n",
    "    \n",
    "    while True:\n",
    "        ans = input(f\"{amp} Continue? [c, q]\").lower()\n",
    "        if ans in (\"\", \"c\",):\n",
    "            break\n",
    "        if ans in ('q', 'x'):\n",
    "            continueDisplay = False\n",
    "            break\n",
    "    if continueDisplay is False:\n",
    "        break"
   ]
  },
  {
   "cell_type": "code",
   "execution_count": 7,
   "id": "e07549d5",
   "metadata": {},
   "outputs": [
    {
     "data": {
      "image/png": "[encoded data removed]",
      "text/plain": [
       "<Figure size 432x288 with 1 Axes>"
      ]
     },
     "metadata": {
      "needs_background": "light"
     },
     "output_type": "display_data"
    },
    {
     "name": "stdout",
     "output_type": "stream",
     "text": [
      "A Gain: ['1.015', '1.016', '1.027', '1.018', '1.007', '1.025', '1.024', 'nan', '1.020', '1.018', '1.020', '1.033', '1.028', '1.025', '1.029', '1.028']\n",
      "A RN:   ['nan', 'nan', '3.626', 'nan', 'nan', '3.267', '1.806', 'nan', 'nan', 'nan', 'nan', 'nan', 'nan', 'nan', 'nan', 'nan']\n",
      "B Gain: ['1.015', '1.016', '1.027', '1.018', '1.007', '1.025', '1.024', 'nan', '1.020', '1.018', '1.020', '1.033', '1.028', '1.025', '1.029', '1.028']\n",
      "B RN:   ['nan', 'nan', '3.626', 'nan', 'nan', '3.267', '1.806', 'nan', 'nan', 'nan', 'nan', 'nan', 'nan', 'nan', 'nan', 'nan']\n"
     ]
    }
   ],
   "source": [
    "plt.scatter(np.array(list(ptcA.gain.values())), \n",
    "            np.array(list(ptcA.gain.values())) - np.array(list(ptcB.gain.values())), \n",
    "            marker='+', label=\"PTCA\")\n",
    "plt.scatter(np.array(list(ptcA.noise.values())), \n",
    "            np.array(list(ptcA.noise.values())) - np.array(list(ptcB.noise.values())),\n",
    "            marker='x', label='PTCB')\n",
    "plt.show()\n",
    "print(\"A Gain:\", [f\"{x:.3f}\" for x in ptcA.gain.values()])\n",
    "print(\"A RN:  \", [f\"{x:.3f}\" for x in ptcA.noise.values()])\n",
    "\n",
    "print(\"B Gain:\", [f\"{x:.3f}\" for x in ptcB.gain.values()])\n",
    "print(\"B RN:  \", [f\"{x:.3f}\" for x in ptcB.noise.values()])"
   ]
  },
  {
   "cell_type": "code",
   "execution_count": 10,
   "id": "dcac22ff",
   "metadata": {},
   "outputs": [
    {
     "name": "stdout",
     "output_type": "stream",
     "text": [
      "['nan', 'C07']\n",
      "['nan', 'C07']\n"
     ]
    }
   ],
   "source": [
    "print(ptcA.badAmps)\n",
    "print(ptcB.badAmps)"
   ]
  },
  {
   "cell_type": "code",
   "execution_count": 9,
   "id": "2f30647d",
   "metadata": {},
   "outputs": [
    {
     "ename": "NameError",
     "evalue": "name 'runStats' is not defined",
     "output_type": "error",
     "traceback": [
      "\u001b[0;31m-----------------------------------------------------------\u001b[0m",
      "\u001b[0;31mNameError\u001b[0m                 Traceback (most recent call last)",
      "\u001b[0;32m<ipython-input-9-9c05e1ee0f51>\u001b[0m in \u001b[0;36m<module>\u001b[0;34m\u001b[0m\n\u001b[0;32m----> 1\u001b[0;31m \u001b[0mrunStats\u001b[0m\u001b[0;34m\u001b[0m\u001b[0;34m\u001b[0m\u001b[0m\n\u001b[0m",
      "\u001b[0;31mNameError\u001b[0m: name 'runStats' is not defined"
     ]
    }
   ],
   "source": [
    "runStats"
   ]
  },
  {
   "cell_type": "code",
   "execution_count": null,
   "id": "c8727fcd",
   "metadata": {},
   "outputs": [],
   "source": []
  }
 ],
 "metadata": {
  "kernelspec": {
   "display_name": "Python 3",
   "language": "python",
   "name": "python3"
  },
  "language_info": {
   "codemirror_mode": {
    "name": "ipython",
    "version": 3
   },
   "file_extension": ".py",
   "mimetype": "text/x-python",
   "name": "python",
   "nbconvert_exporter": "python",
   "pygments_lexer": "ipython3",
   "version": "3.8.8"
  }
 },
 "nbformat": 4,
 "nbformat_minor": 5
}
