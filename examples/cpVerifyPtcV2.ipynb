{
 "cells": [
  {
   "cell_type": "code",
   "execution_count": 1,
   "id": "7ba868f8",
   "metadata": {},
   "outputs": [
    {
     "name": "stderr",
     "output_type": "stream",
     "text": [
      "\n",
      "WARNING: version mismatch between CFITSIO header (v4.000999999999999) and linked library (v4.01).\n",
      "\n",
      "\n",
      "WARNING: version mismatch between CFITSIO header (v4.000999999999999) and linked library (v4.01).\n",
      "\n",
      "\n",
      "WARNING: version mismatch between CFITSIO header (v4.000999999999999) and linked library (v4.01).\n",
      "\n"
     ]
    }
   ],
   "source": [
    "import matplotlib.pyplot as plt\n",
    "import numpy as np\n",
    "\n",
    "import lsst.daf.butler as dB\n",
    "import lsst.cp.verify.notebooks.utils as utils\n",
    "import lsst.afw.display as afwDisplay"
   ]
  },
  {
   "cell_type": "code",
   "execution_count": 2,
   "id": "1f1a036e",
   "metadata": {},
   "outputs": [],
   "source": [
    "# This cell should be edited to match the data to be inspected.\n",
    "\n",
    "# Which calibration type to analyse.\n",
    "calibType = 'ptc' \n",
    "# Camera\n",
    "cameraName = 'LSSTComCam'\n",
    "numberDetectors = 9\n",
    "\n",
    "# Set which display to use.\n",
    "afwDisplay.setDefaultBackend(\"astrowidgets\")\n",
    "\n",
    "# Collection name containing the verification outputs. See DM-30171\n",
    "verifyCollection = 'u/plazas/test-2022JUL28.lsstcomcam.1'\n",
    "# Collection name containign the PTC dataset\n",
    "genCollection = 'u/plazas/2022JUL25-ptc.comcam.FULLCOV.1'"
   ]
  },
  {
   "cell_type": "code",
   "execution_count": 3,
   "id": "d893e570",
   "metadata": {},
   "outputs": [],
   "source": [
    "# Get butler and camera\n",
    "# the genCollection has the camera\n",
    "butler = dB.Butler(\"/repo/main/\", collections=[genCollection,verifyCollection])\n",
    "camera = butler.get('camera', instrument=cameraName)"
   ]
  },
  {
   "cell_type": "code",
   "execution_count": 4,
   "id": "38a7a80a",
   "metadata": {},
   "outputs": [],
   "source": [
    "# Get Run Statistics\n",
    "runStats = butler.get('verifyPtcStats', instrument=cameraName)\n",
    "runSuccess = runStats.pop('SUCCESS')\n"
   ]
  },
  {
   "cell_type": "code",
   "execution_count": 5,
   "id": "6ea08a9a-9a8b-4ad4-a74a-ce1d5cd429ec",
   "metadata": {},
   "outputs": [
    {
     "data": {
      "text/plain": [
       "False"
      ]
     },
     "execution_count": 5,
     "metadata": {},
     "output_type": "execute_result"
    }
   ],
   "source": [
    "runSuccess\n"
   ]
  },
  {
   "cell_type": "code",
   "execution_count": 6,
   "id": "74325ab8-dd7c-4723-a984-0836a3396333",
   "metadata": {},
   "outputs": [
    {
     "data": {
      "text/plain": [
       "{'Detector 0': {'FAILURES': ['Detector 0 NOISE']},\n",
       " 'Detector 1': {'FAILURES': ['Detector 1 NOISE']},\n",
       " 'Detector 2': {'FAILURES': ['Detector 2 NOISE']},\n",
       " 'Detector 3': {'FAILURES': ['Detector 3 NOISE']},\n",
       " 'Detector 4': {'FAILURES': ['Detector 4 NOISE']},\n",
       " 'Detector 5': {'FAILURES': ['Detector 5 NOISE']},\n",
       " 'Detector 6': {'FAILURES': ['Detector 6 NOISE']},\n",
       " 'Detector 7': {'FAILURES': ['Detector 7 NOISE']},\n",
       " 'Detector 8': {'FAILURES': ['Detector 8 NOISE']}}"
      ]
     },
     "execution_count": 6,
     "metadata": {},
     "output_type": "execute_result"
    }
   ],
   "source": [
    "runStats"
   ]
  },
  {
   "cell_type": "code",
   "execution_count": 7,
   "id": "10e52009",
   "metadata": {
    "scrolled": true
   },
   "outputs": [
    {
     "data": {
      "text/html": [
       "<table><td>Exposure</td><td>Detector</td><td>NOISE</td></tr><tr><td>Detector 0</td><td>Detector</td><td style=\"background-color:yellow;color:black;\">1</td></tr><tr><td>Detector 1</td><td>Detector</td><td style=\"background-color:yellow;color:black;\">1</td></tr><tr><td>Detector 2</td><td>Detector</td><td style=\"background-color:yellow;color:black;\">1</td></tr><tr><td>Detector 3</td><td>Detector</td><td style=\"background-color:yellow;color:black;\">1</td></tr><tr><td>Detector 4</td><td>Detector</td><td style=\"background-color:yellow;color:black;\">1</td></tr><tr><td>Detector 5</td><td>Detector</td><td style=\"background-color:yellow;color:black;\">1</td></tr><tr><td>Detector 6</td><td>Detector</td><td style=\"background-color:yellow;color:black;\">1</td></tr><tr><td>Detector 7</td><td>Detector</td><td style=\"background-color:yellow;color:black;\">1</td></tr><tr><td>Detector 8</td><td>Detector</td><td style=\"background-color:yellow;color:black;\">1</td></tr></table>"
      ],
      "text/plain": [
       "<IPython.core.display.HTML object>"
      ]
     },
     "metadata": {},
     "output_type": "display_data"
    }
   ],
   "source": [
    "# Display summary table of tests and failure counts.\n",
    "utils.failureTable(runStats)\n",
    "\n"
   ]
  },
  {
   "cell_type": "code",
   "execution_count": 8,
   "id": "c8bf1e72-5c7e-494a-a0ec-5abf786b129e",
   "metadata": {},
   "outputs": [
    {
     "name": "stdout",
     "output_type": "stream",
     "text": [
      "Detector ID: 0\n",
      "FAILURE NOISE: C10 3.289474998510459 -16.02632498957321 7.0\n",
      "FAILURE NOISE: C17 1.7625095878123385 -5.337567114686368 7.0\n",
      "FAILURE NOISE: C00 3.734407056203763 -19.14084939342634 7.0\n",
      " \n",
      "Detector ID: 1\n",
      "FAILURE NOISE: C11 0.5710324662701755 3.002772736108772 7.0\n",
      "FAILURE NOISE: C12 1.942179474678813 -6.595256322751692 7.0\n",
      "FAILURE NOISE: C13 2.515131874534603 -10.605923121742224 7.0\n",
      "FAILURE NOISE: C14 0.4523962480767964 10.166773736537575 7.0\n",
      "FAILURE NOISE: C15 1.2827467033200999 -1.9792269232406996 7.0\n",
      "FAILURE NOISE: C16 2.868737893798768 -13.081165256591374 7.0\n",
      "FAILURE NOISE: C06 0.9298818694448077 13.509173086113654 7.0\n",
      "FAILURE NOISE: C05 2.5816354687334604 25.071448281134224 7.0\n",
      "FAILURE NOISE: C04 0.02152957577924841 7.150707030454739 7.0\n",
      "FAILURE NOISE: C03 1.0229236397003336 14.160465477902335 7.0\n",
      "FAILURE NOISE: C02 4.990849290073286 41.935945030513004 7.0\n",
      "FAILURE NOISE: C01 0.9942529468988309 0.04022937170818312 7.0\n",
      "FAILURE NOISE: C00 3.793382540256226 -19.55367778179358 7.0\n",
      " \n",
      "Detector ID: 2\n",
      "FAILURE NOISE: C11 0.17048789951143206 8.193415296580024 7.0\n",
      "FAILURE NOISE: C12 3.943668784369188 34.60568149058432 7.0\n",
      "FAILURE NOISE: C13 3.1703316487207944 29.192321541045562 7.0\n",
      "FAILURE NOISE: C15 2.1423127967935796 21.996189577555057 7.0\n",
      "FAILURE NOISE: C16 1.0813666877430799 14.56956681420156 7.0\n",
      "FAILURE NOISE: C07 4.116981554227458 -21.818870879592204 7.0\n",
      "FAILURE NOISE: C06 0.9669046851759298 0.23166720376849126 7.0\n",
      "FAILURE NOISE: C05 3.656800139112551 32.597600973787856 7.0\n",
      "FAILURE NOISE: C03 2.4537615326589823 24.176330728612875 7.0\n",
      "FAILURE NOISE: C02 2.9734470478334325 27.81412933483403 7.0\n",
      "FAILURE NOISE: C01 0.4830838426651893 10.381586898656325 7.0\n",
      " \n",
      "Detector ID: 3\n",
      "FAILURE NOISE: C12 1.5571626248558579 17.900138373991005 7.0\n",
      "FAILURE NOISE: C13 4.668939339613467 39.68257537729427 7.0\n",
      "FAILURE NOISE: C16 2.3858045991975763 23.700632194383033 7.0\n",
      "FAILURE NOISE: C17 4.107429696265674 -21.752007873859718 7.0\n",
      "FAILURE NOISE: C07 1.5237470144275806 -3.6662291009930636 7.0\n",
      "FAILURE NOISE: C06 2.3693132261600787 23.585192583120552 7.0\n",
      " \n",
      "Detector ID: 4\n",
      "FAILURE NOISE: C11 4.993872848848784 -27.95710994194149 7.0\n",
      "FAILURE NOISE: C12 4.306989769283983 -23.14892838498788 7.0\n",
      "FAILURE NOISE: C14 0.6924357018480374 2.152950087063738 7.0\n",
      "FAILURE NOISE: C16 1.2538068761800856 -1.7766481332605983 7.0\n",
      "FAILURE NOISE: C07 1.395331666343093 -2.767321664401651 7.0\n",
      "FAILURE NOISE: C06 0.11146271574195651 6.219760989806304 7.0\n",
      "FAILURE NOISE: C05 1.0559218732243048 14.391453112570133 7.0\n",
      "FAILURE NOISE: C04 3.6281183795375864 32.396828656763105 7.0\n",
      "FAILURE NOISE: C03 4.597783870623795 39.18448709436657 7.0\n",
      "FAILURE NOISE: C02 2.1461487855195385 22.02304149863677 7.0\n",
      " \n",
      "Detector ID: 5\n",
      "FAILURE NOISE: C10 1.2915011433895407 -2.0405080037267846 7.0\n",
      "FAILURE NOISE: C11 0.16483637757415462 8.153854643019082 7.0\n",
      "FAILURE NOISE: C13 3.100177224773805 28.701240573416634 7.0\n",
      "FAILURE NOISE: C15 1.4258802109021924 -2.9811614763153473 7.0\n",
      "FAILURE NOISE: C16 2.1424908255249084 -7.99743577867436 7.0\n",
      "FAILURE NOISE: C17 0.9692967455575516 0.2149227810971386 7.0\n",
      "FAILURE NOISE: C07 2.0940067556868613 -7.658047289808028 7.0\n",
      "FAILURE NOISE: C06 1.3705124018500654 -2.5935868129504573 7.0\n",
      "FAILURE NOISE: C05 3.106643507613051 28.74650455329136 7.0\n",
      " \n",
      "Detector ID: 6\n",
      "FAILURE NOISE: C11 1.2143670118577963 -1.5005690830045753 7.0\n",
      "FAILURE NOISE: C12 1.2503848188969202 -1.7526937322784413 7.0\n",
      "FAILURE NOISE: C13 0.457796612347565 10.204576286432955 7.0\n",
      "FAILURE NOISE: C14 0.7851849880751863 12.496294916526304 7.0\n",
      "FAILURE NOISE: C15 3.6906974164941695 -18.834881915459185 7.0\n",
      "FAILURE NOISE: C16 0.5989659469446108 11.192761628612276 7.0\n",
      "FAILURE NOISE: C17 1.0893919924066455 -0.625743946846519 7.0\n",
      "FAILURE NOISE: C01 4.977729326513651 41.84410528559555 7.0\n",
      "FAILURE NOISE: C00 3.9065541972084037 34.345879380458825 7.0\n",
      " \n",
      "Detector ID: 7\n",
      "FAILURE NOISE: C10 3.5845630552464294 32.091941386725004 7.0\n",
      "FAILURE NOISE: C11 1.6174527029567416 18.32216892069719 7.0\n",
      "FAILURE NOISE: C16 2.922756601335352 27.459296209347464 7.0\n",
      "FAILURE NOISE: C17 2.4853155975674888 -10.397209182972421 7.0\n",
      "FAILURE NOISE: C06 0.30727280252270006 9.1509096176589 7.0\n",
      " \n",
      "Detector ID: 8\n",
      "FAILURE NOISE: C16 3.24938130132199 29.74566910925393 7.0\n",
      "FAILURE NOISE: C07 0.7659556098557515 1.6383107310097393 7.0\n",
      "FAILURE NOISE: C06 2.6994023097763913 25.895816168434738 7.0\n",
      " \n"
     ]
    }
   ],
   "source": [
    "# Noise failed, let's look at the values\n",
    "gainThreshold = 5  # percentage\n",
    "noiseThreshold = 5 # percentage\n",
    "for detId in range(9):\n",
    "    calib = butler.get(\"ptc\", instrument=\"LSSTComCam\", detector=detId)\n",
    "    detector = camera[detId]\n",
    "    print (f\"Detector ID: {detId}\")\n",
    "    for amp in detector:\n",
    "        ampName = amp.getName()\n",
    "        diffGain = np.abs(calib.gain[ampName] - amp.getGain()) / amp.getGain()\n",
    "        diffNoise = np.abs(calib.noise[ampName] - amp.getReadNoise()) / amp.getReadNoise()\n",
    "        testGain = bool(diffGain < gainThreshold)\n",
    "        testNoise = bool(diffNoise < noiseThreshold)\n",
    "        if testNoise:\n",
    "            print ('FAILURE NOISE:', ampName, diffNoise , calib.noise[ampName], amp.getReadNoise())\n",
    "    print(\" \")\n",
    "    "
   ]
  },
  {
   "cell_type": "code",
   "execution_count": 9,
   "id": "0fea4433",
   "metadata": {},
   "outputs": [
    {
     "name": "stdout",
     "output_type": "stream",
     "text": [
      "0 {'AMP': {}, 'DET': {}, 'SUCCESS': False, 'VERIFY': {'NOISE': False}}\n",
      "1 {'AMP': {}, 'DET': {}, 'SUCCESS': False, 'VERIFY': {'NOISE': False}}\n",
      "2 {'AMP': {}, 'DET': {}, 'SUCCESS': False, 'VERIFY': {'NOISE': False}}\n",
      "3 {'AMP': {}, 'DET': {}, 'SUCCESS': False, 'VERIFY': {'NOISE': False}}\n",
      "4 {'AMP': {}, 'DET': {}, 'SUCCESS': False, 'VERIFY': {'NOISE': False}}\n",
      "5 {'AMP': {}, 'DET': {}, 'SUCCESS': False, 'VERIFY': {'NOISE': False}}\n",
      "6 {'AMP': {}, 'DET': {}, 'SUCCESS': False, 'VERIFY': {'NOISE': False}}\n",
      "7 {'AMP': {}, 'DET': {}, 'SUCCESS': False, 'VERIFY': {'NOISE': False}}\n",
      "8 {'AMP': {}, 'DET': {}, 'SUCCESS': False, 'VERIFY': {'NOISE': False}}\n"
     ]
    }
   ],
   "source": [
    "# Det stats\n",
    "for detId in range(numberDetectors):\n",
    "    detStats = butler.get(\"verifyPtcDetStats\", instrument=\"LSSTComCam\", detector=detId)\n",
    "    print (detId, detStats)"
   ]
  },
  {
   "cell_type": "code",
   "execution_count": null,
   "id": "ce20442d-b905-43ce-8377-806355a44ecb",
   "metadata": {},
   "outputs": [],
   "source": []
  },
  {
   "cell_type": "code",
   "execution_count": 10,
   "id": "d753ba5d-e396-43f7-97c3-03c7db5bcdfb",
   "metadata": {},
   "outputs": [
    {
     "data": {
      "image/png": "[encoded data removed]",
      "text/plain": [
       "<Figure size 432x288 with 1 Axes>"
      ]
     },
     "metadata": {
      "needs_background": "light"
     },
     "output_type": "display_data"
    },
    {
     "name": "stdin",
     "output_type": "stream",
     "text": [
      "C00 Continue? [c, q] c\n"
     ]
    },
    {
     "data": {
      "image/png": "[encoded data removed]",
      "text/plain": [
       "<Figure size 432x288 with 1 Axes>"
      ]
     },
     "metadata": {
      "needs_background": "light"
     },
     "output_type": "display_data"
    },
    {
     "name": "stdin",
     "output_type": "stream",
     "text": [
      "C01 Continue? [c, q] c\n"
     ]
    },
    {
     "data": {
      "image/png": "[encoded data removed]",
      "text/plain": [
       "<Figure size 432x288 with 1 Axes>"
      ]
     },
     "metadata": {
      "needs_background": "light"
     },
     "output_type": "display_data"
    },
    {
     "name": "stdin",
     "output_type": "stream",
     "text": [
      "C02 Continue? [c, q] c\n"
     ]
    },
    {
     "data": {
      "image/png": "[encoded data removed]",
      "text/plain": [
       "<Figure size 432x288 with 1 Axes>"
      ]
     },
     "metadata": {
      "needs_background": "light"
     },
     "output_type": "display_data"
    },
    {
     "name": "stdin",
     "output_type": "stream",
     "text": [
      "C03 Continue? [c, q] c\n"
     ]
    },
    {
     "data": {
      "image/png": "[encoded data removed]",
      "text/plain": [
       "<Figure size 432x288 with 1 Axes>"
      ]
     },
     "metadata": {
      "needs_background": "light"
     },
     "output_type": "display_data"
    },
    {
     "name": "stdin",
     "output_type": "stream",
     "text": [
      "C04 Continue? [c, q] q\n"
     ]
    }
   ],
   "source": [
    "# Plot PTCs\n",
    "for detId in range(numberDetectors): \n",
    "    ptc = butler.get('ptc', instrument=cameraName, detector=detId)\n",
    "    continueDisplay=True\n",
    "    for amp in np.unique(ptc.ampNames):\n",
    "        plt.scatter(ptc.rawMeans[amp], ptc.rawVars[amp], marker='o', label=\"PTC-raw\")\n",
    "\n",
    "        plt.scatter(ptc.finalMeans[amp], ptc.finalVars[amp], marker='+', label=\"PTC\")\n",
    "        plt.show()\n",
    "    \n",
    "        while True:\n",
    "            ans = input(f\"{amp} Continue? [c, q]\").lower()\n",
    "            if ans in (\"\", \"c\",):\n",
    "                break\n",
    "            if ans in ('q', 'x'):\n",
    "                continueDisplay = False\n",
    "                break\n",
    "        if continueDisplay is False:\n",
    "            break\n",
    "    if continueDisplay is False:\n",
    "            break"
   ]
  },
  {
   "cell_type": "code",
   "execution_count": 11,
   "id": "ea30fa69-36da-4103-85a1-7627387282a8",
   "metadata": {},
   "outputs": [
    {
     "data": {
      "text/plain": [
       "({'C00': 1.659065937346196,\n",
       "  'C01': 1.6882955899907075,\n",
       "  'C02': 1.6922147264534322,\n",
       "  'C03': 1.681152532100217,\n",
       "  'C04': 1.690808220613901,\n",
       "  'C05': 1.6908557400504332,\n",
       "  'C06': 1.6914746875859994,\n",
       "  'C07': 1.6756393102892317,\n",
       "  'C10': 1.5586776175280925,\n",
       "  'C11': 1.6064279294197885,\n",
       "  'C12': 1.5951152955547043,\n",
       "  'C13': 1.5934941349332679,\n",
       "  'C14': 1.6037695928419258,\n",
       "  'C15': 1.598515125193371,\n",
       "  'C16': 1.5774291154349869,\n",
       "  'C17': 1.5462370556701628},\n",
       " {'C00': -19.14084939342634,\n",
       "  'C01': 83.61158861861223,\n",
       "  'C02': 144.11072944799136,\n",
       "  'C03': 89.8812896047889,\n",
       "  'C04': 104.99470432581003,\n",
       "  'C05': 87.05835900127356,\n",
       "  'C06': 100.22652313835246,\n",
       "  'C07': 132.43529035148612,\n",
       "  'C10': -16.02632498957321,\n",
       "  'C11': 84.59689126825099,\n",
       "  'C12': 83.05153151366628,\n",
       "  'C13': 95.8315980066787,\n",
       "  'C14': 192.74154079552605,\n",
       "  'C15': 70.69352843165429,\n",
       "  'C16': -32.79134604771789,\n",
       "  'C17': -5.337567114686368})"
      ]
     },
     "execution_count": 11,
     "metadata": {},
     "output_type": "execute_result"
    }
   ],
   "source": [
    "ptc.gain, ptc.noise"
   ]
  },
  {
   "cell_type": "code",
   "execution_count": null,
   "id": "63b73444-174e-47e0-b9b8-b5619301b598",
   "metadata": {},
   "outputs": [],
   "source": []
  }
 ],
 "metadata": {
  "kernelspec": {
   "display_name": "LSST",
   "language": "python",
   "name": "lsst"
  },
  "language_info": {
   "codemirror_mode": {
    "name": "ipython",
    "version": 3
   },
   "file_extension": ".py",
   "mimetype": "text/x-python",
   "name": "python",
   "nbconvert_exporter": "python",
   "pygments_lexer": "ipython3",
   "version": "3.10.4"
  }
 },
 "nbformat": 4,
 "nbformat_minor": 5
}
