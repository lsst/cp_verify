{
 "cells": [
  {
   "cell_type": "code",
   "execution_count": 1,
   "id": "7ba868f8",
   "metadata": {},
   "outputs": [],
   "source": [
    "import matplotlib.pyplot as plt\n",
    "import numpy as np\n",
    "\n",
    "import lsst.daf.butler as dB\n",
    "import lsst.cp.verify.notebooks.utils as utils\n",
    "import lsst.afw.display as afwDisplay"
   ]
  },
  {
   "cell_type": "code",
   "execution_count": 14,
   "id": "1f1a036e",
   "metadata": {},
   "outputs": [],
   "source": [
    "# Which calibration type to analyse.\n",
    "calibType = 'bias'\n",
    "\n",
    "# This cell should be edited to match the data to be inspected.\n",
    "afwDisplay.setDefaultBackend(\"astrowidgets\")\n",
    "cameraName = 'LATISS'\n",
    "verifyCollection = 'u/czw/DM-28920/verifyBias.20210702a'\n",
    "# verifyCollection = 'u/czw/DM-28920/verifyBias.20210721a'"
   ]
  },
  {
   "cell_type": "code",
   "execution_count": 15,
   "id": "d893e570",
   "metadata": {},
   "outputs": [],
   "source": [
    "# Get butler and camera\n",
    "butler = dB.Butler(\"/repo/main/\", collections=[verifyCollection, 'u/czw/DM-28920/calib.20210720'])\n",
    "camera = butler.get('camera', instrument=cameraName)"
   ]
  },
  {
   "cell_type": "code",
   "execution_count": 16,
   "id": "38a7a80a",
   "metadata": {},
   "outputs": [],
   "source": [
    "# Get Run Statistics\n",
    "runStats = butler.get('verifyBiasStats', instrument=cameraName)\n",
    "runSuccess = runStats.pop('SUCCESS')"
   ]
  },
  {
   "cell_type": "code",
   "execution_count": 9,
   "id": "9ce0e68f",
   "metadata": {
    "scrolled": false
   },
   "outputs": [
    {
     "data": {
      "application/vnd.jupyter.widget-view+json": {
       "model_id": "d0ed5c1aa3e64a7a8793e41585128f76",
       "version_major": 2,
       "version_minor": 0
      },
      "text/plain": [
       "ImageWidget(children=(Image(value=b'', format='jpeg', height='1000', layout=\"Layout(margin='0')\", width='1000'…"
      ]
     },
     "metadata": {},
     "output_type": "display_data"
    }
   ],
   "source": [
    "# IW = astrowidgets.ImageWidget(image_width=1000, image_height=1000)\n",
    "display = afwDisplay.Display(dims=(1000, 1000))\n",
    "display.embed()"
   ]
  },
  {
   "cell_type": "code",
   "execution_count": 10,
   "id": "b302b59f",
   "metadata": {
    "scrolled": false
   },
   "outputs": [
    {
     "ename": "LookupError",
     "evalue": "Dataset bias with data ID {instrument: 'LATISS', detector: 0} could not be found in collections [u/czw/DM-28920/verifyBias.20210721a, u/czw/DM-28920/calib.20210720].",
     "output_type": "error",
     "traceback": [
      "\u001b[0;31m-----------------------------------------------------------\u001b[0m",
      "\u001b[0;31mLookupError\u001b[0m               Traceback (most recent call last)",
      "\u001b[0;32m<ipython-input-10-3a28cb3848c9>\u001b[0m in \u001b[0;36m<module>\u001b[0;34m\u001b[0m\n\u001b[0;32m----> 1\u001b[0;31m \u001b[0mcalib\u001b[0m \u001b[0;34m=\u001b[0m \u001b[0mbutler\u001b[0m\u001b[0;34m.\u001b[0m\u001b[0mget\u001b[0m\u001b[0;34m(\u001b[0m\u001b[0mcalibType\u001b[0m\u001b[0;34m,\u001b[0m \u001b[0minstrument\u001b[0m\u001b[0;34m=\u001b[0m\u001b[0mcameraName\u001b[0m\u001b[0;34m,\u001b[0m \u001b[0mdetector\u001b[0m\u001b[0;34m=\u001b[0m\u001b[0;36m0\u001b[0m\u001b[0;34m)\u001b[0m\u001b[0;34m\u001b[0m\u001b[0;34m\u001b[0m\u001b[0m\n\u001b[0m\u001b[1;32m      2\u001b[0m \u001b[0mcalibArray\u001b[0m \u001b[0;34m=\u001b[0m \u001b[0mbias\u001b[0m\u001b[0;34m.\u001b[0m\u001b[0mgetImage\u001b[0m\u001b[0;34m(\u001b[0m\u001b[0;34m)\u001b[0m\u001b[0;34m.\u001b[0m\u001b[0mgetArray\u001b[0m\u001b[0;34m(\u001b[0m\u001b[0;34m)\u001b[0m\u001b[0;34m\u001b[0m\u001b[0;34m\u001b[0m\u001b[0m\n\u001b[1;32m      3\u001b[0m \u001b[0;34m\u001b[0m\u001b[0m\n\u001b[1;32m      4\u001b[0m \u001b[0;31m# Get simple stats\u001b[0m\u001b[0;34m\u001b[0m\u001b[0;34m\u001b[0m\u001b[0;34m\u001b[0m\u001b[0m\n\u001b[1;32m      5\u001b[0m \u001b[0mq25\u001b[0m\u001b[0;34m,\u001b[0m \u001b[0mq50\u001b[0m\u001b[0;34m,\u001b[0m \u001b[0mq75\u001b[0m \u001b[0;34m=\u001b[0m \u001b[0mnp\u001b[0m\u001b[0;34m.\u001b[0m\u001b[0mpercentile\u001b[0m\u001b[0;34m(\u001b[0m\u001b[0mcalibArray\u001b[0m\u001b[0;34m.\u001b[0m\u001b[0mflatten\u001b[0m\u001b[0;34m(\u001b[0m\u001b[0;34m)\u001b[0m\u001b[0;34m,\u001b[0m \u001b[0;34m[\u001b[0m\u001b[0;36m25\u001b[0m\u001b[0;34m,\u001b[0m \u001b[0;36m50\u001b[0m\u001b[0;34m,\u001b[0m \u001b[0;36m75\u001b[0m\u001b[0;34m]\u001b[0m\u001b[0;34m)\u001b[0m\u001b[0;34m\u001b[0m\u001b[0;34m\u001b[0m\u001b[0m\n",
      "\u001b[0;32m/software/lsstsw/stack_20210520/stack/miniconda3-py38_4.9.2-0.6.0/Linux64/daf_butler/22.0.0-48-gb5d6354f+02ffdaf10e/python/lsst/daf/butler/_butler.py\u001b[0m in \u001b[0;36mget\u001b[0;34m(self, datasetRefOrType, dataId, parameters, collections, **kwargs)\u001b[0m\n\u001b[1;32m   1093\u001b[0m         \"\"\"\n\u001b[1;32m   1094\u001b[0m         \u001b[0mlog\u001b[0m\u001b[0;34m.\u001b[0m\u001b[0mdebug\u001b[0m\u001b[0;34m(\u001b[0m\u001b[0;34m\"Butler get: %s, dataId=%s, parameters=%s\"\u001b[0m\u001b[0;34m,\u001b[0m \u001b[0mdatasetRefOrType\u001b[0m\u001b[0;34m,\u001b[0m \u001b[0mdataId\u001b[0m\u001b[0;34m,\u001b[0m \u001b[0mparameters\u001b[0m\u001b[0;34m)\u001b[0m\u001b[0;34m\u001b[0m\u001b[0;34m\u001b[0m\u001b[0m\n\u001b[0;32m-> 1095\u001b[0;31m         \u001b[0mref\u001b[0m \u001b[0;34m=\u001b[0m \u001b[0mself\u001b[0m\u001b[0;34m.\u001b[0m\u001b[0m_findDatasetRef\u001b[0m\u001b[0;34m(\u001b[0m\u001b[0mdatasetRefOrType\u001b[0m\u001b[0;34m,\u001b[0m \u001b[0mdataId\u001b[0m\u001b[0;34m,\u001b[0m \u001b[0mcollections\u001b[0m\u001b[0;34m=\u001b[0m\u001b[0mcollections\u001b[0m\u001b[0;34m,\u001b[0m \u001b[0;34m**\u001b[0m\u001b[0mkwargs\u001b[0m\u001b[0;34m)\u001b[0m\u001b[0;34m\u001b[0m\u001b[0;34m\u001b[0m\u001b[0m\n\u001b[0m\u001b[1;32m   1096\u001b[0m         \u001b[0;32mreturn\u001b[0m \u001b[0mself\u001b[0m\u001b[0;34m.\u001b[0m\u001b[0mgetDirect\u001b[0m\u001b[0;34m(\u001b[0m\u001b[0mref\u001b[0m\u001b[0;34m,\u001b[0m \u001b[0mparameters\u001b[0m\u001b[0;34m=\u001b[0m\u001b[0mparameters\u001b[0m\u001b[0;34m)\u001b[0m\u001b[0;34m\u001b[0m\u001b[0;34m\u001b[0m\u001b[0m\n\u001b[1;32m   1097\u001b[0m \u001b[0;34m\u001b[0m\u001b[0m\n",
      "\u001b[0;32m/software/lsstsw/stack_20210520/stack/miniconda3-py38_4.9.2-0.6.0/Linux64/daf_butler/22.0.0-48-gb5d6354f+02ffdaf10e/python/lsst/daf/butler/_butler.py\u001b[0m in \u001b[0;36m_findDatasetRef\u001b[0;34m(self, datasetRefOrType, dataId, collections, allowUnresolved, **kwargs)\u001b[0m\n\u001b[1;32m    849\u001b[0m                 \u001b[0;32mif\u001b[0m \u001b[0mcollections\u001b[0m \u001b[0;32mis\u001b[0m \u001b[0;32mNone\u001b[0m\u001b[0;34m:\u001b[0m\u001b[0;34m\u001b[0m\u001b[0;34m\u001b[0m\u001b[0m\n\u001b[1;32m    850\u001b[0m                     \u001b[0mcollections\u001b[0m \u001b[0;34m=\u001b[0m \u001b[0mself\u001b[0m\u001b[0;34m.\u001b[0m\u001b[0mregistry\u001b[0m\u001b[0;34m.\u001b[0m\u001b[0mdefaults\u001b[0m\u001b[0;34m.\u001b[0m\u001b[0mcollections\u001b[0m\u001b[0;34m\u001b[0m\u001b[0;34m\u001b[0m\u001b[0m\n\u001b[0;32m--> 851\u001b[0;31m                 raise LookupError(f\"Dataset {datasetType.name} with data ID {dataId} \"\n\u001b[0m\u001b[1;32m    852\u001b[0m                                   f\"could not be found in collections {collections}.\")\n\u001b[1;32m    853\u001b[0m         \u001b[0;32mif\u001b[0m \u001b[0midNumber\u001b[0m \u001b[0;32mis\u001b[0m \u001b[0;32mnot\u001b[0m \u001b[0;32mNone\u001b[0m \u001b[0;32mand\u001b[0m \u001b[0midNumber\u001b[0m \u001b[0;34m!=\u001b[0m \u001b[0mref\u001b[0m\u001b[0;34m.\u001b[0m\u001b[0mid\u001b[0m\u001b[0;34m:\u001b[0m\u001b[0;34m\u001b[0m\u001b[0;34m\u001b[0m\u001b[0m\n",
      "\u001b[0;31mLookupError\u001b[0m: Dataset bias with data ID {instrument: 'LATISS', detector: 0} could not be found in collections [u/czw/DM-28920/verifyBias.20210721a, u/czw/DM-28920/calib.20210720]."
     ]
    }
   ],
   "source": [
    "calib = butler.get(calibType, instrument=cameraName, detector=0)\n",
    "calibArray = bias.getImage().getArray()\n",
    "\n",
    "# Get simple stats\n",
    "q25, q50, q75 = np.percentile(calibArray.flatten(), [25, 50, 75])\n",
    "sigma = 0.74 * (q75 - q25)\n",
    "print(f\"Median: {q50}   Stdev: {sigma}\")\n",
    "\n",
    "display.mtv(calib)\n",
    "display._scale('linear', (q50 - 3.0 * sigma), (q50 + 3.0* sigma), \"\")"
   ]
  },
  {
   "cell_type": "code",
   "execution_count": 11,
   "id": "6e9092b6",
   "metadata": {},
   "outputs": [
    {
     "ename": "LookupError",
     "evalue": "Dataset cpBiasProc with data ID {instrument: 'LATISS', detector: 0, exposure: 2021012000020} could not be found in collections [u/czw/DM-28920/verifyBias.20210721a, u/czw/DM-28920/calib.20210720].",
     "output_type": "error",
     "traceback": [
      "\u001b[0;31m-----------------------------------------------------------\u001b[0m",
      "\u001b[0;31mLookupError\u001b[0m               Traceback (most recent call last)",
      "\u001b[0;32m<ipython-input-11-53750af7af34>\u001b[0m in \u001b[0;36m<module>\u001b[0;34m\u001b[0m\n\u001b[1;32m     11\u001b[0m         \u001b[0;31m# TODO: support multi-detector\u001b[0m\u001b[0;34m\u001b[0m\u001b[0;34m\u001b[0m\u001b[0;34m\u001b[0m\u001b[0m\n\u001b[1;32m     12\u001b[0m         \u001b[0mdetId\u001b[0m \u001b[0;34m=\u001b[0m \u001b[0;36m0\u001b[0m\u001b[0;34m\u001b[0m\u001b[0;34m\u001b[0m\u001b[0m\n\u001b[0;32m---> 13\u001b[0;31m         \u001b[0mresidual\u001b[0m \u001b[0;34m=\u001b[0m \u001b[0mbutler\u001b[0m\u001b[0;34m.\u001b[0m\u001b[0mget\u001b[0m\u001b[0;34m(\u001b[0m\u001b[0;34m'cpBiasProc'\u001b[0m\u001b[0;34m,\u001b[0m \u001b[0minstrument\u001b[0m\u001b[0;34m=\u001b[0m\u001b[0mcameraName\u001b[0m\u001b[0;34m,\u001b[0m \u001b[0mexposure\u001b[0m\u001b[0;34m=\u001b[0m\u001b[0mexposureId\u001b[0m\u001b[0;34m,\u001b[0m \u001b[0mdetector\u001b[0m\u001b[0;34m=\u001b[0m\u001b[0mdetId\u001b[0m\u001b[0;34m)\u001b[0m\u001b[0;34m\u001b[0m\u001b[0;34m\u001b[0m\u001b[0m\n\u001b[0m\u001b[1;32m     14\u001b[0m         \u001b[0mdetStats\u001b[0m \u001b[0;34m=\u001b[0m \u001b[0mbutler\u001b[0m\u001b[0;34m.\u001b[0m\u001b[0mget\u001b[0m\u001b[0;34m(\u001b[0m\u001b[0;34m'verifyBiasDetStats'\u001b[0m\u001b[0;34m,\u001b[0m \u001b[0minstrument\u001b[0m\u001b[0;34m=\u001b[0m\u001b[0mcameraName\u001b[0m\u001b[0;34m,\u001b[0m \u001b[0mexposure\u001b[0m\u001b[0;34m=\u001b[0m\u001b[0mexposureId\u001b[0m\u001b[0;34m,\u001b[0m \u001b[0mdetector\u001b[0m\u001b[0;34m=\u001b[0m\u001b[0mdetId\u001b[0m\u001b[0;34m)\u001b[0m\u001b[0;34m\u001b[0m\u001b[0;34m\u001b[0m\u001b[0m\n\u001b[1;32m     15\u001b[0m \u001b[0;34m\u001b[0m\u001b[0m\n",
      "\u001b[0;32m/software/lsstsw/stack_20210520/stack/miniconda3-py38_4.9.2-0.6.0/Linux64/daf_butler/22.0.0-48-gb5d6354f+02ffdaf10e/python/lsst/daf/butler/_butler.py\u001b[0m in \u001b[0;36mget\u001b[0;34m(self, datasetRefOrType, dataId, parameters, collections, **kwargs)\u001b[0m\n\u001b[1;32m   1093\u001b[0m         \"\"\"\n\u001b[1;32m   1094\u001b[0m         \u001b[0mlog\u001b[0m\u001b[0;34m.\u001b[0m\u001b[0mdebug\u001b[0m\u001b[0;34m(\u001b[0m\u001b[0;34m\"Butler get: %s, dataId=%s, parameters=%s\"\u001b[0m\u001b[0;34m,\u001b[0m \u001b[0mdatasetRefOrType\u001b[0m\u001b[0;34m,\u001b[0m \u001b[0mdataId\u001b[0m\u001b[0;34m,\u001b[0m \u001b[0mparameters\u001b[0m\u001b[0;34m)\u001b[0m\u001b[0;34m\u001b[0m\u001b[0;34m\u001b[0m\u001b[0m\n\u001b[0;32m-> 1095\u001b[0;31m         \u001b[0mref\u001b[0m \u001b[0;34m=\u001b[0m \u001b[0mself\u001b[0m\u001b[0;34m.\u001b[0m\u001b[0m_findDatasetRef\u001b[0m\u001b[0;34m(\u001b[0m\u001b[0mdatasetRefOrType\u001b[0m\u001b[0;34m,\u001b[0m \u001b[0mdataId\u001b[0m\u001b[0;34m,\u001b[0m \u001b[0mcollections\u001b[0m\u001b[0;34m=\u001b[0m\u001b[0mcollections\u001b[0m\u001b[0;34m,\u001b[0m \u001b[0;34m**\u001b[0m\u001b[0mkwargs\u001b[0m\u001b[0;34m)\u001b[0m\u001b[0;34m\u001b[0m\u001b[0;34m\u001b[0m\u001b[0m\n\u001b[0m\u001b[1;32m   1096\u001b[0m         \u001b[0;32mreturn\u001b[0m \u001b[0mself\u001b[0m\u001b[0;34m.\u001b[0m\u001b[0mgetDirect\u001b[0m\u001b[0;34m(\u001b[0m\u001b[0mref\u001b[0m\u001b[0;34m,\u001b[0m \u001b[0mparameters\u001b[0m\u001b[0;34m=\u001b[0m\u001b[0mparameters\u001b[0m\u001b[0;34m)\u001b[0m\u001b[0;34m\u001b[0m\u001b[0;34m\u001b[0m\u001b[0m\n\u001b[1;32m   1097\u001b[0m \u001b[0;34m\u001b[0m\u001b[0m\n",
      "\u001b[0;32m/software/lsstsw/stack_20210520/stack/miniconda3-py38_4.9.2-0.6.0/Linux64/daf_butler/22.0.0-48-gb5d6354f+02ffdaf10e/python/lsst/daf/butler/_butler.py\u001b[0m in \u001b[0;36m_findDatasetRef\u001b[0;34m(self, datasetRefOrType, dataId, collections, allowUnresolved, **kwargs)\u001b[0m\n\u001b[1;32m    849\u001b[0m                 \u001b[0;32mif\u001b[0m \u001b[0mcollections\u001b[0m \u001b[0;32mis\u001b[0m \u001b[0;32mNone\u001b[0m\u001b[0;34m:\u001b[0m\u001b[0;34m\u001b[0m\u001b[0;34m\u001b[0m\u001b[0m\n\u001b[1;32m    850\u001b[0m                     \u001b[0mcollections\u001b[0m \u001b[0;34m=\u001b[0m \u001b[0mself\u001b[0m\u001b[0;34m.\u001b[0m\u001b[0mregistry\u001b[0m\u001b[0;34m.\u001b[0m\u001b[0mdefaults\u001b[0m\u001b[0;34m.\u001b[0m\u001b[0mcollections\u001b[0m\u001b[0;34m\u001b[0m\u001b[0;34m\u001b[0m\u001b[0m\n\u001b[0;32m--> 851\u001b[0;31m                 raise LookupError(f\"Dataset {datasetType.name} with data ID {dataId} \"\n\u001b[0m\u001b[1;32m    852\u001b[0m                                   f\"could not be found in collections {collections}.\")\n\u001b[1;32m    853\u001b[0m         \u001b[0;32mif\u001b[0m \u001b[0midNumber\u001b[0m \u001b[0;32mis\u001b[0m \u001b[0;32mnot\u001b[0m \u001b[0;32mNone\u001b[0m \u001b[0;32mand\u001b[0m \u001b[0midNumber\u001b[0m \u001b[0;34m!=\u001b[0m \u001b[0mref\u001b[0m\u001b[0;34m.\u001b[0m\u001b[0mid\u001b[0m\u001b[0;34m:\u001b[0m\u001b[0;34m\u001b[0m\u001b[0;34m\u001b[0m\u001b[0m\n",
      "\u001b[0;31mLookupError\u001b[0m: Dataset cpBiasProc with data ID {instrument: 'LATISS', detector: 0, exposure: 2021012000020} could not be found in collections [u/czw/DM-28920/verifyBias.20210721a, u/czw/DM-28920/calib.20210720]."
     ]
    }
   ],
   "source": [
    "# This block allows the residual images to be scanned for concerns.\n",
    "blinkResiduals = True\n",
    "if blinkResiduals:\n",
    "    continueDisplay = True\n",
    "    skipNumber = 0\n",
    "    for exposureId, stats in runStats.items():\n",
    "        if skipNumber > 0:\n",
    "            skipNumber -= 1\n",
    "            continue\n",
    "        \n",
    "        # TODO: support multi-detector\n",
    "        detId = 0\n",
    "        residual = butler.get('cpBiasProc', instrument=cameraName, exposure=exposureId, detector=detId)\n",
    "        detStats = butler.get('verifyBiasDetStats', instrument=cameraName, exposure=exposureId, detector=detId)\n",
    "\n",
    "        display.mtv(residual)    \n",
    "        continueDisplay, skipNumber = utils.interactiveBlock(f\"{exposureId} {detId}\", detStats)\n",
    "        if continueDisplay is False:\n",
    "            break"
   ]
  },
  {
   "cell_type": "code",
   "execution_count": 17,
   "id": "fc8f7160",
   "metadata": {},
   "outputs": [
    {
     "data": {
      "image/png": "[encoded data removed]",
      "text/plain": [
       "<Figure size 1152x576 with 4 Axes>"
      ]
     },
     "metadata": {
      "needs_background": "light"
     },
     "output_type": "display_data"
    },
    {
     "data": {
      "image/png": "[encoded data removed]",
      "text/plain": [
       "<Figure size 1152x576 with 2 Axes>"
      ]
     },
     "metadata": {
      "needs_background": "light"
     },
     "output_type": "display_data"
    }
   ],
   "source": [
    "utils.plotFailures(runStats, camera, scaleFactor=8)"
   ]
  },
  {
   "cell_type": "code",
   "execution_count": 20,
   "id": "73cd89c7",
   "metadata": {},
   "outputs": [
    {
     "data": {
      "text/plain": [
       "{'saveMetadata': True,\n",
       " 'datasetType': 'raw',\n",
       " 'fallbackFilterName': None,\n",
       " 'useFallbackDate': False,\n",
       " 'expectWcs': True,\n",
       " 'fwhm': 1.0,\n",
       " 'qa': {'saveStats': True,\n",
       "  'flatness': {'meshX': 256,\n",
       "   'meshY': 256,\n",
       "   'doClip': True,\n",
       "   'clipSigma': 3.0,\n",
       "   'nIter': 3},\n",
       "  'doWriteOss': False,\n",
       "  'doThumbnailOss': False,\n",
       "  'doWriteFlattened': False,\n",
       "  'doThumbnailFlattened': False,\n",
       "  'thumbnailBinning': 4,\n",
       "  'thumbnailStdev': 3.0,\n",
       "  'thumbnailRange': 5.0,\n",
       "  'thumbnailQ': 20.0,\n",
       "  'thumbnailSatBorder': 2},\n",
       " 'doConvertIntToFloat': True,\n",
       " 'doSaturation': True,\n",
       " 'saturatedMaskName': 'SAT',\n",
       " 'saturation': nan,\n",
       " 'growSaturationFootprintSize': 1,\n",
       " 'doSuspect': False,\n",
       " 'suspectMaskName': 'SUSPECT',\n",
       " 'numEdgeSuspect': 0,\n",
       " 'edgeMaskLevel': 'DETECTOR',\n",
       " 'doSetBadRegions': True,\n",
       " 'badStatistic': 'MEANCLIP',\n",
       " 'doOverscan': True,\n",
       " 'overscan': {'fitType': 'MEDIAN_PER_ROW',\n",
       "  'order': 1,\n",
       "  'numSigmaClip': 3.0,\n",
       "  'maskPlanes': ['SAT'],\n",
       "  'overscanIsInt': True},\n",
       " 'overscanFitType': 'MEDIAN',\n",
       " 'overscanOrder': 1,\n",
       " 'overscanNumSigmaClip': 3.0,\n",
       " 'overscanIsInt': True,\n",
       " 'overscanNumLeadingColumnsToSkip': 0,\n",
       " 'overscanNumTrailingColumnsToSkip': 0,\n",
       " 'overscanMaxDev': 1000.0,\n",
       " 'overscanBiasJump': False,\n",
       " 'overscanBiasJumpKeyword': 'NO_SUCH_KEY',\n",
       " 'overscanBiasJumpDevices': [],\n",
       " 'overscanBiasJumpLocation': 0,\n",
       " 'doAssembleCcd': True,\n",
       " 'assembleCcd': {'doTrim': True, 'keysToRemove': []},\n",
       " 'doAssembleIsrExposures': False,\n",
       " 'doTrimToMatchCalib': False,\n",
       " 'doBias': False,\n",
       " 'biasDataProductName': 'bias',\n",
       " 'doBiasBeforeOverscan': False,\n",
       " 'doVariance': True,\n",
       " 'gain': nan,\n",
       " 'readNoise': 0.0,\n",
       " 'doEmpiricalReadNoise': True,\n",
       " 'usePtcReadNoise': False,\n",
       " 'doLinearize': False,\n",
       " 'doCrosstalk': False,\n",
       " 'doCrosstalkBeforeAssemble': False,\n",
       " 'crosstalk': {'minPixelToMask': 45000.0,\n",
       "  'crosstalkMaskPlane': 'CROSSTALK',\n",
       "  'crosstalkBackgroundMethod': 'None',\n",
       "  'useConfigCoefficients': False,\n",
       "  'crosstalkValues': [0.0],\n",
       "  'crosstalkShape': [1]},\n",
       " 'doDefect': False,\n",
       " 'doNanMasking': True,\n",
       " 'doWidenSaturationTrails': True,\n",
       " 'doBrighterFatter': False,\n",
       " 'brighterFatterLevel': 'DETECTOR',\n",
       " 'brighterFatterMaxIter': 10,\n",
       " 'brighterFatterThreshold': 1000.0,\n",
       " 'brighterFatterApplyGain': True,\n",
       " 'brighterFatterMaskListToInterpolate': ['SAT',\n",
       "  'BAD',\n",
       "  'NO_DATA',\n",
       "  'UNMASKEDNAN'],\n",
       " 'brighterFatterMaskGrowSize': 0,\n",
       " 'doDark': False,\n",
       " 'darkDataProductName': 'dark',\n",
       " 'doStrayLight': False,\n",
       " 'strayLight': {'doRotatorAngleCorrection': False, 'filters': []},\n",
       " 'doFlat': False,\n",
       " 'flatDataProductName': 'flat',\n",
       " 'flatScalingType': 'USER',\n",
       " 'flatUserScale': 1.0,\n",
       " 'doTweakFlat': False,\n",
       " 'doApplyGains': False,\n",
       " 'usePtcGains': False,\n",
       " 'normalizeGains': False,\n",
       " 'doFringe': False,\n",
       " 'fringe': {'filters': [],\n",
       "  'useFilterAliases': False,\n",
       "  'num': 30000,\n",
       "  'small': 3,\n",
       "  'large': 30,\n",
       "  'iterations': 20,\n",
       "  'clip': 3.0,\n",
       "  'stats': {'badMaskPlanes': ['SAT'],\n",
       "   'stat': 32,\n",
       "   'clip': 3.0,\n",
       "   'iterations': 3,\n",
       "   'rngSeedOffset': 0},\n",
       "  'pedestal': False},\n",
       " 'fringeAfterFlat': True,\n",
       " 'doMeasureBackground': False,\n",
       " 'doCameraSpecificMasking': False,\n",
       " 'masking': {'doSpecificMasking': False},\n",
       " 'doInterpolate': True,\n",
       " 'doSaturationInterpolation': True,\n",
       " 'doNanInterpolation': True,\n",
       " 'doNanInterpAfterFlat': False,\n",
       " 'maskListToInterpolate': ['SAT', 'BAD', 'UNMASKEDNAN'],\n",
       " 'doSaveInterpPixels': False,\n",
       " 'fluxMag0T1': {'Unknown': 158489319246.11172},\n",
       " 'defaultFluxMag0T1': 158489319246.11172,\n",
       " 'doVignette': False,\n",
       " 'vignette': {'xCenter': 0.0,\n",
       "  'yCenter': 0.0,\n",
       "  'radius': 100.0,\n",
       "  'numPolygonPoints': 100,\n",
       "  'doWriteVignettePolygon': False},\n",
       " 'doAttachTransmissionCurve': False,\n",
       " 'doUseOpticsTransmission': True,\n",
       " 'doUseFilterTransmission': True,\n",
       " 'doUseSensorTransmission': True,\n",
       " 'doUseAtmosphereTransmission': True,\n",
       " 'doIlluminationCorrection': False,\n",
       " 'illuminationCorrectionDataProductName': 'illumcor',\n",
       " 'illumScale': 1.0,\n",
       " 'illumFilters': [],\n",
       " 'doWrite': True,\n",
       " 'connections': {'ccdExposure': 'raw',\n",
       "  'camera': 'camera',\n",
       "  'crosstalk': 'crosstalk',\n",
       "  'crosstalkSources': 'isrOverscanCorrected',\n",
       "  'bias': 'bias',\n",
       "  'dark': 'dark',\n",
       "  'flat': 'flat',\n",
       "  'ptc': 'ptc',\n",
       "  'fringes': 'fringe',\n",
       "  'strayLightData': 'yBackground',\n",
       "  'bfKernel': 'bfKernel',\n",
       "  'newBFKernel': 'brighterFatterKernel',\n",
       "  'defects': 'defects',\n",
       "  'linearizer': 'linearizer',\n",
       "  'opticsTransmission': 'transmission_optics',\n",
       "  'filterTransmission': 'transmission_filter',\n",
       "  'sensorTransmission': 'transmission_sensor',\n",
       "  'atmosphereTransmission': 'transmission_atmosphere',\n",
       "  'illumMaskedImage': 'illum',\n",
       "  'outputExposure': 'cpBiasProc',\n",
       "  'preInterpExposure': 'preInterpISRCCD',\n",
       "  'outputOssThumbnail': 'OssThumb',\n",
       "  'outputFlattenedThumbnail': 'FlattenedThumb'}}"
      ]
     },
     "execution_count": 20,
     "metadata": {},
     "output_type": "execute_result"
    }
   ],
   "source": [
    "config = butler.get('isr_config')\n",
    "config.toDict()"
   ]
  },
  {
   "cell_type": "code",
   "execution_count": 12,
   "id": "e252945c",
   "metadata": {},
   "outputs": [
    {
     "data": {
      "text/plain": [
       "{2021012000020: {'FAILURES': ['RXX_S00 C11 CR_NOISE']},\n",
       " 2021012000032: {'FAILURES': ['RXX_S00 C11 CR_NOISE']},\n",
       " 2021012000037: {'FAILURES': ['RXX_S00 C11 CR_NOISE']},\n",
       " 2021012000055: {'FAILURES': ['RXX_S00 C11 CR_NOISE', 'RXX_S00 C11 MEAN']},\n",
       " 2021012000059: {'FAILURES': ['RXX_S00 C11 CR_NOISE']},\n",
       " 2021012000061: {'FAILURES': ['RXX_S00 C11 CR_NOISE']},\n",
       " 2021012000063: {'FAILURES': ['RXX_S00 C11 CR_NOISE']},\n",
       " 2021012700032: {'FAILURES': ['RXX_S00 C11 CR_NOISE', 'RXX_S00 C11 MEAN']},\n",
       " 2021012700037: {'FAILURES': ['RXX_S00 C11 CR_NOISE', 'RXX_S00 C11 MEAN']},\n",
       " 2021012700038: {'FAILURES': ['RXX_S00 C11 CR_NOISE', 'RXX_S00 C11 MEAN']},\n",
       " 2021012700052: {'FAILURES': ['RXX_S00 C11 CR_NOISE', 'RXX_S00 C11 MEAN']},\n",
       " 2021012700061: {'FAILURES': ['RXX_S00 C11 CR_NOISE', 'RXX_S00 C11 MEAN']},\n",
       " 2021012700119: {'FAILURES': ['RXX_S00 C11 CR_NOISE', 'RXX_S00 C11 MEAN']},\n",
       " 2021012700423: {'FAILURES': ['RXX_S00 C11 CR_NOISE', 'RXX_S00 C11 MEAN']},\n",
       " 2021012700701: {'FAILURES': ['RXX_S00 C11 CR_NOISE', 'RXX_S00 C11 MEAN']},\n",
       " 2021012700842: {'FAILURES': ['RXX_S00 C11 CR_NOISE', 'RXX_S00 C11 MEAN']},\n",
       " 2021012700900: {'FAILURES': ['RXX_S00 C11 CR_NOISE', 'RXX_S00 C11 MEAN']},\n",
       " 2021012700926: {'FAILURES': ['RXX_S00 C11 CR_NOISE', 'RXX_S00 C11 MEAN']},\n",
       " 2021020100022: {'FAILURES': ['RXX_S00 C11 CR_NOISE', 'RXX_S00 C11 MEAN']},\n",
       " 2021020100032: {'FAILURES': ['RXX_S00 C11 CR_NOISE', 'RXX_S00 C11 MEAN']},\n",
       " 2021020100036: {'FAILURES': ['RXX_S00 C11 CR_NOISE', 'RXX_S00 C11 MEAN']},\n",
       " 2021020100047: {'FAILURES': ['RXX_S00 C11 CR_NOISE', 'RXX_S00 C11 MEAN']},\n",
       " 2021020100049: {'FAILURES': ['RXX_S00 C11 CR_NOISE', 'RXX_S00 C11 MEAN']},\n",
       " 2021020100072: {'FAILURES': ['RXX_S00 C11 CR_NOISE', 'RXX_S00 C11 MEAN']},\n",
       " 2021020100329: {'FAILURES': ['RXX_S00 C11 CR_NOISE', 'RXX_S00 C11 MEAN']},\n",
       " 2021020100335: {'FAILURES': ['RXX_S00 C11 CR_NOISE', 'RXX_S00 C11 MEAN']},\n",
       " 2021020100344: {'FAILURES': ['RXX_S00 C11 CR_NOISE', 'RXX_S00 C11 MEAN']},\n",
       " 2021020100369: {'FAILURES': ['RXX_S00 C11 CR_NOISE', 'RXX_S00 C11 MEAN']},\n",
       " 2021020100375: {'FAILURES': ['RXX_S00 C11 CR_NOISE', 'RXX_S00 C11 MEAN']},\n",
       " 2021030500005: {'FAILURES': ['RXX_S00 C11 CR_NOISE']},\n",
       " 2021030500009: {'FAILURES': ['RXX_S00 C11 CR_NOISE']},\n",
       " 2021030500015: {'FAILURES': ['RXX_S00 C11 CR_NOISE']},\n",
       " 2021030500019: {'FAILURES': ['RXX_S00 C11 CR_NOISE']},\n",
       " 2021030500023: {'FAILURES': ['RXX_S00 C11 CR_NOISE']},\n",
       " 2021030500026: {'FAILURES': ['RXX_S00 C11 CR_NOISE']},\n",
       " 2021030500032: {'FAILURES': ['RXX_S00 C11 CR_NOISE']},\n",
       " 2021030500046: {'FAILURES': ['RXX_S00 C11 CR_NOISE']},\n",
       " 2021030500050: {'FAILURES': ['RXX_S00 C11 CR_NOISE']},\n",
       " 2021031100004: {'FAILURES': ['RXX_S00 C11 CR_NOISE']},\n",
       " 2021031100005: {'FAILURES': ['RXX_S00 C11 CR_NOISE']},\n",
       " 2021031100010: {'FAILURES': ['RXX_S00 C11 CR_NOISE']},\n",
       " 2021031100028: {'FAILURES': ['RXX_S00 C11 CR_NOISE']},\n",
       " 2021031100032: {'FAILURES': ['RXX_S00 C11 CR_NOISE']},\n",
       " 2021031100036: {'FAILURES': ['RXX_S00 C11 CR_NOISE']},\n",
       " 2021031100037: {'FAILURES': ['RXX_S00 C11 CR_NOISE']},\n",
       " 2021031100041: {'FAILURES': ['RXX_S00 C11 CR_NOISE']},\n",
       " 2021031100045: {'FAILURES': ['RXX_S00 C11 CR_NOISE']},\n",
       " 2021031100048: {'FAILURES': ['RXX_S00 C11 CR_NOISE']},\n",
       " 2021060900011: {'FAILURES': ['RXX_S00 C11 CR_NOISE']},\n",
       " 2021060900026: {'FAILURES': ['RXX_S00 C11 CR_NOISE']},\n",
       " 2021060900038: {'FAILURES': ['RXX_S00 C11 CR_NOISE']},\n",
       " 2021060900039: {'FAILURES': ['RXX_S00 C11 CR_NOISE']},\n",
       " 2021060900042: {'FAILURES': ['RXX_S00 C11 CR_NOISE']},\n",
       " 2021060900048: {'FAILURES': ['RXX_S00 C11 CR_NOISE']},\n",
       " 2021060900049: {'FAILURES': ['RXX_S00 C11 CR_NOISE']}}"
      ]
     },
     "execution_count": 12,
     "metadata": {},
     "output_type": "execute_result"
    }
   ],
   "source": [
    "runStats"
   ]
  },
  {
   "cell_type": "code",
   "execution_count": 15,
   "id": "c7b8f7f1",
   "metadata": {},
   "outputs": [
    {
     "data": {
      "text/plain": [
       "60"
      ]
     },
     "execution_count": 15,
     "metadata": {},
     "output_type": "execute_result"
    }
   ],
   "source": [
    "len(runStats)"
   ]
  },
  {
   "cell_type": "code",
   "execution_count": null,
   "id": "7726f316",
   "metadata": {},
   "outputs": [],
   "source": []
  }
 ],
 "metadata": {
  "kernelspec": {
   "display_name": "Python 3",
   "language": "python",
   "name": "python3"
  },
  "language_info": {
   "codemirror_mode": {
    "name": "ipython",
    "version": 3
   },
   "file_extension": ".py",
   "mimetype": "text/x-python",
   "name": "python",
   "nbconvert_exporter": "python",
   "pygments_lexer": "ipython3",
   "version": "3.8.8"
  }
 },
 "nbformat": 4,
 "nbformat_minor": 5
}
