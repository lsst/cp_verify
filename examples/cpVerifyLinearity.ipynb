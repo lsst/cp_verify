{
 "cells": [
  {
   "cell_type": "code",
   "execution_count": 1,
   "id": "8aa75eb3",
   "metadata": {},
   "outputs": [],
   "source": [
    "import matplotlib.pyplot as plt\n",
    "import numpy as np\n",
    "\n",
    "import lsst.daf.butler as dB\n",
    "import lsst.cp.verify.notebooks.utils as utils\n",
    "import lsst.afw.display as afwDisplay"
   ]
  },
  {
   "cell_type": "code",
   "execution_count": 2,
   "id": "84dccd11",
   "metadata": {},
   "outputs": [
    {
     "name": "stderr",
     "output_type": "stream",
     "text": [
      "/home/czw/.local/lib/python3.8/site-packages/ginga/cmap.py:13317: MatplotlibDeprecationWarning: The global colormaps dictionary is no longer considered public API.\n",
      "  for name in _cm.cmap_d:\n"
     ]
    }
   ],
   "source": [
    "# Which calibration type to analyse.\n",
    "calibType = 'linearity'\n",
    "\n",
    "# This cell should be edited to match the data to be inspected.\n",
    "afwDisplay.setDefaultBackend(\"astrowidgets\")\n",
    "\n",
    "cameraName = 'LATISS'\n",
    "genCollection = 'u/czw/DM-28920/linearityGen.20210713a'\n",
    "genCollection2 = 'u/czw/DM-28920/linearityGen.20210713b'\n",
    "ptcCollection = 'u/czw/DM-28920/ptcGen.20210714a'\n",
    "ptcCollection2 = 'u/czw/DM-28920/ptcGen.20210714b'"
   ]
  },
  {
   "cell_type": "code",
   "execution_count": 3,
   "id": "01855373",
   "metadata": {},
   "outputs": [],
   "source": [
    "# Get butler and camera\n",
    "butler = dB.Butler(\"/repo/main/\")\n",
    "camera = butler.get('camera', instrument=cameraName, collections='LATISS/calib')"
   ]
  },
  {
   "cell_type": "code",
   "execution_count": 4,
   "id": "01677173",
   "metadata": {},
   "outputs": [],
   "source": [
    "linA = butler.get('linearity', instrument='LATISS', detector=0, collections=genCollection)\n",
    "linB = butler.get('linearity', instrument='LATISS', detector=0, collections=genCollection2)"
   ]
  },
  {
   "cell_type": "code",
   "execution_count": 5,
   "id": "ab782515",
   "metadata": {},
   "outputs": [],
   "source": [
    "ptcCollections = ['u/czw/DM-28920/ptcGen.20210712a','u/czw/DM-28920/ptcGen.20210712b']\n",
    "ptcA = butler.get('ptc', instrument='LATISS', detector=0, collections=ptcCollections[0])\n",
    "ptcB = butler.get('ptc', instrument='LATISS', detector=0, collections=ptcCollections[1])"
   ]
  },
  {
   "cell_type": "code",
   "execution_count": 6,
   "id": "b1931dcc",
   "metadata": {},
   "outputs": [
    {
     "data": {
      "image/png": "[encoded data removed]",
      "text/plain": [
       "<Figure size 432x288 with 1 Axes>"
      ]
     },
     "metadata": {
      "needs_background": "light"
     },
     "output_type": "display_data"
    }
   ],
   "source": [
    "offset = 0\n",
    "for it, amp in enumerate(camera[0].getAmplifiers()):\n",
    "    if linA.linearityType[amp.getName()] == 'Spline':\n",
    "        centers, values = np.split(linA.linearityCoeffs[amp.getName()], 2)\n",
    "        plt.scatter(centers, values + it * offset, marker='+', label=\"LinA\")\n",
    "\n",
    "    if linB.linearityType[amp.getName()] == 'Spline':\n",
    "        centers, values = np.split(linB.linearityCoeffs[amp.getName()], 2)\n",
    "        plt.scatter(centers, values + it * offset, marker='x', label='LinB')\n",
    "plt.show()"
   ]
  },
  {
   "cell_type": "code",
   "execution_count": 9,
   "id": "d1f13585",
   "metadata": {},
   "outputs": [
    {
     "data": {
      "image/png": "[encoded data removed]",
      "text/plain": [
       "<Figure size 432x288 with 1 Axes>"
      ]
     },
     "metadata": {
      "needs_background": "light"
     },
     "output_type": "display_data"
    },
    {
     "name": "stdout",
     "output_type": "stream",
     "text": [
      "C00 Continue? [c, q]q\n"
     ]
    }
   ],
   "source": [
    "import lsst.afw.math as afwMath\n",
    "\n",
    "continueDisplay=True\n",
    "for amp in ptcA.ampNames:\n",
    "    if linA.linearityType[amp] == 'Spline':\n",
    "        centers, values = np.split(linA.linearityCoeffs[amp], 2)\n",
    "        interp = afwMath.makeInterpolate(centers.tolist(), values.tolist(),\n",
    "                                         afwMath.stringToInterpStyle(\"AKIMA_SPLINE\"))\n",
    "        delta = interp.interpolate(np.array(ptcA.rawMeans[amp]))\n",
    "        linearized = np.array(ptcA.rawMeans[amp]) - np.array(delta)\n",
    "    \n",
    "    plt.scatter(linearized, ptcA.rawVars[amp], marker='o', label=\"PTCA\")\n",
    "\n",
    "    plt.scatter(ptcA.rawMeans[amp], ptcA.rawVars[amp], marker='+', label=\"PTCA\")\n",
    "    plt.scatter(ptcB.rawMeans[amp], ptcB.rawVars[amp], marker='x', label='PTCB')\n",
    "    plt.show()\n",
    "    \n",
    "    while True:\n",
    "        ans = input(f\"{amp} Continue? [c, q]\").lower()\n",
    "        if ans in (\"\", \"c\",):\n",
    "            break\n",
    "        if ans in ('q', 'x'):\n",
    "            continueDisplay = False\n",
    "            break\n",
    "    if continueDisplay is False:\n",
    "        break"
   ]
  },
  {
   "cell_type": "code",
   "execution_count": 10,
   "id": "87555f99",
   "metadata": {},
   "outputs": [
    {
     "data": {
      "image/png": "[encoded data removed]",
      "text/plain": [
       "<Figure size 432x288 with 1 Axes>"
      ]
     },
     "metadata": {
      "needs_background": "light"
     },
     "output_type": "display_data"
    },
    {
     "name": "stdout",
     "output_type": "stream",
     "text": [
      "A Gain: ['1.015', '1.016', '1.027', '1.018', '1.007', '1.025', '1.024', 'nan', '1.020', '1.018', '1.020', '1.033', '1.028', '1.025', '1.029', '1.028']\n",
      "A RN:   ['nan', 'nan', '3.626', 'nan', 'nan', '3.267', '1.806', 'nan', 'nan', 'nan', 'nan', 'nan', 'nan', 'nan', 'nan', 'nan']\n",
      "B Gain: ['1.015', '1.018', '1.013', '1.018', '1.008', '1.027', '1.017', 'nan', '1.038', '1.024', '1.026', '1.021', '1.028', '1.025', '1.027', '1.037']\n",
      "B RN:   ['0.959', 'nan', 'nan', 'nan', 'nan', '1.020', 'nan', 'nan', '8.090', 'nan', 'nan', 'nan', 'nan', 'nan', 'nan', '3.224']\n"
     ]
    }
   ],
   "source": [
    "plt.scatter(np.array(list(ptcA.gain.values())), \n",
    "            np.array(list(ptcA.gain.values())) - np.array(list(ptcB.gain.values())), \n",
    "            marker='+', label=\"PTCA\")\n",
    "plt.scatter(np.array(list(ptcA.noise.values())), \n",
    "            np.array(list(ptcA.noise.values())) - np.array(list(ptcB.noise.values())),\n",
    "            marker='x', label='PTCB')\n",
    "plt.show()\n",
    "print(\"A Gain:\", [f\"{x:.3f}\" for x in ptcA.gain.values()])\n",
    "print(\"A RN:  \", [f\"{x:.3f}\" for x in ptcA.noise.values()])\n",
    "\n",
    "print(\"B Gain:\", [f\"{x:.3f}\" for x in ptcB.gain.values()])\n",
    "print(\"B RN:  \", [f\"{x:.3f}\" for x in ptcB.noise.values()])"
   ]
  },
  {
   "cell_type": "code",
   "execution_count": null,
   "id": "c8727fcd",
   "metadata": {},
   "outputs": [],
   "source": []
  }
 ],
 "metadata": {
  "kernelspec": {
   "display_name": "Python 3",
   "language": "python",
   "name": "python3"
  },
  "language_info": {
   "codemirror_mode": {
    "name": "ipython",
    "version": 3
   },
   "file_extension": ".py",
   "mimetype": "text/x-python",
   "name": "python",
   "nbconvert_exporter": "python",
   "pygments_lexer": "ipython3",
   "version": "3.8.8"
  }
 },
 "nbformat": 4,
 "nbformat_minor": 5
}
