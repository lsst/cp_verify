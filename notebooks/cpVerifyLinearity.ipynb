{
 "cells": [
  {
   "cell_type": "code",
   "execution_count": null,
   "id": "8aa75eb3",
   "metadata": {},
   "outputs": [],
   "source": [
    "import matplotlib.pyplot as plt\n",
    "import numpy as np\n",
    "\n",
    "import lsst.daf.butler as dB\n",
    "import lsst.cp.verify.notebooks.utils as utils\n",
    "import lsst.afw.display as afwDisplay"
   ]
  },
  {
   "cell_type": "code",
   "execution_count": null,
   "id": "84dccd11",
   "metadata": {
    "tags": [
     "parameters"
    ]
   },
   "outputs": [],
   "source": [
    "# This cell contains parameters that can be automatically set via the papermill package.\n",
    "# Examples:\n",
    "#   papermill --prepare-only -p calibType newBias -p cameraName LSSTCam <input> <output>\n",
    "#   papermill -p interactive False <input> <output>\n",
    "interactive = True\n",
    "\n",
    "# Which repository to use.\n",
    "repository = '/repo/embargo/'\n",
    "\n",
    "# Which calibration type to analyse.\n",
    "calibType = 'linearity'\n",
    "detectorNumber = 0\n",
    "\n",
    "# Which camera the calibration is for.\n",
    "cameraName = 'LATISS'\n",
    "\n",
    "# Which display to use.\n",
    "displayBackend = 'astrowidgets'\n",
    "\n",
    "# Which collections the calibration was constructed in.\n",
    "genCollection = 'u/czw/DM-37819/linearity_v25.20230321a'\n",
    "genCollection2 = 'u/czw/DM-37819/linearity_v26.20230321a'\n",
    "\n",
    "# Which collections containing the PTC objects.\n",
    "ptcCollection = 'u/czw/DM-38111/ptc-v25.20230222a'\n",
    "ptcCollection2 = 'u/czw/DM-38111/ptc-v26.20230222a'\n",
    "\n",
    "# Which collections containing the verification outputs.\n",
    "verifyCollection = 'u/czw/DM-37819/linearityVerify_v25.20230321a'\n",
    "verifyCollection2 = 'u/czw/DM-37819/linearityVerify_v26.20230321a'"
   ]
  },
  {
   "cell_type": "code",
   "execution_count": null,
   "id": "01855373",
   "metadata": {},
   "outputs": [],
   "source": [
    "# Get butler and camera\n",
    "butler = dB.Butler(repository)\n",
    "camera = butler.get('camera', instrument=cameraName, collections='LATISS/calib')"
   ]
  },
  {
   "cell_type": "code",
   "execution_count": null,
   "id": "01677173",
   "metadata": {},
   "outputs": [],
   "source": [
    "linA = butler.get('linearity', instrument=cameraName, detector=detectorNumber, \n",
    "                  collections=genCollection)\n",
    "linB = butler.get('linearity', instrument=cameraName, detector=detectorNumber, \n",
    "                  collections=genCollection2)"
   ]
  },
  {
   "cell_type": "code",
   "execution_count": null,
   "id": "ab782515",
   "metadata": {},
   "outputs": [],
   "source": [
    "ptcA = butler.get('ptc', instrument=cameraName, detector=detectorNumber, \n",
    "                  collections=ptcCollection)\n",
    "ptcB = butler.get('ptc', instrument=cameraName, detector=detectorNumber, \n",
    "                  collections=ptcCollection2)"
   ]
  },
  {
   "cell_type": "code",
   "execution_count": null,
   "id": "b1931dcc",
   "metadata": {},
   "outputs": [],
   "source": [
    "offset = 0\n",
    "fig, axes = plt.subplots(nrows=1, ncols=2,\n",
    "                         sharex=False, sharey=False, figsize=[8.0, 8.0 / 2], \n",
    "                         constrained_layout=True)\n",
    "for it, amp in enumerate(camera[0].getAmplifiers()):\n",
    "    if linA.linearityType[amp.getName()] == 'Spline':\n",
    "        centers, values = np.split(linA.linearityCoeffs[amp.getName()], 2)\n",
    "        axes[0].scatter(centers, values + it * offset, marker='+', label=\"LinA\")\n",
    "        \n",
    "        centers, values = np.split(vlinA.linearityCoeffs[amp.getName()], 2)\n",
    "        axes[0].scatter(centers, values + it * offset, marker='+', label=\"VerifyA\")\n",
    "\n",
    "    if linB.linearityType[amp.getName()] == 'Spline':\n",
    "        centers, values = np.split(linB.linearityCoeffs[amp.getName()], 2)\n",
    "        axes[1].scatter(centers, values + it * offset, marker='x', label='LinB')\n",
    "\n",
    "        centers, values = np.split(vlinB.linearityCoeffs[amp.getName()], 2)\n",
    "        axes[1].scatter(centers, values + it * offset, marker='+', label=\"VerifyB\")\n",
    "axes[1].axline((55000, 50), slope=-1e-2, color='cyan')\n",
    "axes[0].set_title(\"v25\")\n",
    "axes[1].set_title(\"v26\")\n",
    "plt.show()"
   ]
  },
  {
   "cell_type": "code",
   "execution_count": null,
   "id": "d1f13585",
   "metadata": {},
   "outputs": [],
   "source": [
    "import lsst.afw.math as afwMath\n",
    "\n",
    "continueDisplay=True\n",
    "for amp in ptcA.ampNames:\n",
    "    if linA.linearityType[amp] == 'Spline':\n",
    "        centers, values = np.split(linA.linearityCoeffs[amp], 2)\n",
    "        interp = afwMath.makeInterpolate(centers.tolist(), values.tolist(),\n",
    "                                         afwMath.stringToInterpStyle(\"AKIMA_SPLINE\"))\n",
    "        delta = interp.interpolate(np.array(ptcA.rawMeans[amp]))\n",
    "        linearized = np.array(ptcA.rawMeans[amp]) - np.array(delta)\n",
    "    \n",
    "    plt.scatter(linearized, ptcA.rawVars[amp], marker='o', label=\"PTCA\")\n",
    "\n",
    "    plt.scatter(ptcA.rawMeans[amp], ptcA.rawVars[amp], marker='+', label=\"PTCA\")\n",
    "    plt.scatter(ptcB.rawMeans[amp], ptcB.rawVars[amp], marker='x', label='PTCB')\n",
    "    plt.show()"
   ]
  },
  {
   "cell_type": "code",
   "execution_count": null,
   "id": "87555f99",
   "metadata": {},
   "outputs": [],
   "source": [
    "plt.scatter(np.array(list(ptcA.gain.values())), \n",
    "            np.array(list(ptcA.gain.values())) - np.array(list(ptcB.gain.values())), \n",
    "            marker='+', label=\"PTCA\")\n",
    "plt.scatter(np.array(list(ptcA.noise.values())), \n",
    "            np.array(list(ptcA.noise.values())) - np.array(list(ptcB.noise.values())),\n",
    "            marker='x', label='PTCB')\n",
    "plt.show()\n",
    "print(\"A Gain:\", [f\"{x:.3f}\" for x in ptcA.gain.values()])\n",
    "print(\"A RN:  \", [f\"{x:.3f}\" for x in ptcA.noise.values()])\n",
    "\n",
    "print(\"B Gain:\", [f\"{x:.3f}\" for x in ptcB.gain.values()])\n",
    "print(\"B RN:  \", [f\"{x:.3f}\" for x in ptcB.noise.values()])"
   ]
  },
  {
   "cell_type": "code",
   "execution_count": null,
   "id": "c8727fcd",
   "metadata": {},
   "outputs": [],
   "source": []
  }
 ],
 "metadata": {
  "kernelspec": {
   "display_name": "LSST",
   "language": "python",
   "name": "lsst"
  },
  "language_info": {
   "codemirror_mode": {
    "name": "ipython",
    "version": 3
   },
   "file_extension": ".py",
   "mimetype": "text/x-python",
   "name": "python",
   "nbconvert_exporter": "python",
   "pygments_lexer": "ipython3",
   "version": "3.10.9"
  }
 },
 "nbformat": 4,
 "nbformat_minor": 5
}
