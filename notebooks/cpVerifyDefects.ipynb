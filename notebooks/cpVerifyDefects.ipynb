{
 "cells": [
  {
   "cell_type": "code",
   "execution_count": null,
   "id": "8aa75eb3",
   "metadata": {},
   "outputs": [],
   "source": [
    "import matplotlib.pyplot as plt\n",
    "import numpy as np\n",
    "\n",
    "import lsst.daf.butler as dB\n",
    "import lsst.cp.verify.notebooks.utils as utils\n",
    "import lsst.afw.display as afwDisplay\n",
    "import lsst.afw.image as afwImage"
   ]
  },
  {
   "cell_type": "code",
   "execution_count": null,
   "id": "84dccd11",
   "metadata": {
    "tags": [
     "parameters"
    ]
   },
   "outputs": [],
   "source": [
    "# This cell contains parameters that can be automatically set via the papermill package.\n",
    "# Examples:\n",
    "#   papermill --prepare-only -p calibType newBias -p cameraName LSSTCam <input> <output>\n",
    "#   papermill -p interactive False <input> <output>\n",
    "interactive = True\n",
    "\n",
    "# Which repository to use.\n",
    "repository = '/repo/main/'\n",
    "\n",
    "# Which calibration type to analyse.\n",
    "calibType = 'defects'\n",
    "\n",
    "# Which camera the calibration is for.\n",
    "cameraName = 'LATISS'\n",
    "\n",
    "# Which display to use.\n",
    "displayBackend = 'astrowidgets'\n",
    "\n",
    "# Which collection the calibration was constructed in.\n",
    "genCollection = 'u/czw/DM-28920/defectGen.20210623'\n",
    "\n",
    "# Which collection containing the verification outputs.\n",
    "verifyCollection = 'u/czw/DM-28920/verifyDefect.20210712a'"
   ]
  },
  {
   "cell_type": "code",
   "execution_count": null,
   "id": "01855373",
   "metadata": {},
   "outputs": [],
   "source": [
    "# Get butler and camera\n",
    "butler = dB.Butler(repository, collections=[verifyCollection])\n",
    "camera = butler.get('camera', instrument=cameraName)"
   ]
  },
  {
   "cell_type": "code",
   "execution_count": null,
   "id": "3311216b",
   "metadata": {},
   "outputs": [],
   "source": [
    "# Get Run Statistics\n",
    "runStats = butler.get('verifyDefectStats', instrument=cameraName)\n",
    "runSuccess = runStats.pop('SUCCESS')"
   ]
  },
  {
   "cell_type": "code",
   "execution_count": null,
   "id": "d9e26d88-7edc-4c02-bec4-a9f4859e6294",
   "metadata": {},
   "outputs": [],
   "source": [
    "# Display summary table of tests and failure counts.\n",
    "utils.failureTable(runStats)"
   ]
  },
  {
   "cell_type": "code",
   "execution_count": null,
   "id": "3100554b",
   "metadata": {},
   "outputs": [],
   "source": [
    "# Plot focal plane, and display number of amp-level failures per detector.\n",
    "utils.plotFailures(runStats, camera, scaleFactor=8)"
   ]
  },
  {
   "cell_type": "code",
   "execution_count": null,
   "id": "2de1cdef",
   "metadata": {},
   "outputs": [],
   "source": [
    "# This cell may be easier to follow in a new view via the\n",
    "#     \"Create New View for Output\" right-click menu.  \n",
    "afwDisplay.setDefaultBackend(displayBackend)\n",
    "display = afwDisplay.Display(dims=(1000, 1000))\n",
    "display.embed()"
   ]
  },
  {
   "cell_type": "code",
   "execution_count": null,
   "id": "d2970a6f",
   "metadata": {},
   "outputs": [],
   "source": [
    "# View calibration images:\n",
    "viewCalibs = interactive\n",
    "if viewCalibs:\n",
    "    continueDisplay = True\n",
    "    for detector in camera:\n",
    "        detectorId = detector.getId()\n",
    "        calib = butler.get(calibType, instrument=cameraName, detector=detectorId)\n",
    "        # Defects are on disk as a list, but an image is more useful\n",
    "        realization = afwImage.MaskedImageI(4072, 4000)\n",
    "        calib.maskPixels(realization)\n",
    "        calibArray = realization.getMask().getArray()\n",
    "\n",
    "        # Get simple stats\n",
    "        q25, q50, q75 = np.percentile(calibArray.flatten(), [25, 50, 75])\n",
    "        sigma = 0.74 * (q75 - q25)\n",
    "        print(f\"Detector: {detector.getName()} Median: {q50}   Stdev: {sigma}\")\n",
    "    \n",
    "        display.mtv(calib)\n",
    "        display._scale('linear', (q50 - 3.0 * sigma), (q50 + 3.0* sigma), \"\")\n",
    "\n",
    "        continueDisplay, skipNumber = utils.interactiveBlock(f\"{calibType} {detector.getName()}\", \n",
    "                                                             {})\n",
    "        if continueDisplay is False:\n",
    "            break"
   ]
  },
  {
   "cell_type": "code",
   "execution_count": null,
   "id": "0d97491f",
   "metadata": {
    "tags": []
   },
   "outputs": [],
   "source": [
    "# This block allows the residual images to be scanned for concerns.\n",
    "blinkResiduals = interactive\n",
    "if blinkResiduals:\n",
    "    continueDisplay = True\n",
    "    skipNumber = 0\n",
    "    for exposureId, stats in runStats.items():\n",
    "        if skipNumber > 0:\n",
    "            skipNumber -= 1\n",
    "            continue\n",
    "        \n",
    "        # TODO: support multi-detector\n",
    "        detId = 0\n",
    "        residual = butler.get('verifyDefectProc', instrument=cameraName, \n",
    "                              exposure=exposureId, detector=detId)\n",
    "        detStats = butler.get('verifyDefectDetStats', instrument=cameraName, \n",
    "                              exposure=exposureId, detector=detId)\n",
    "\n",
    "        display.mtv(residual)    \n",
    "        continueDisplay, skipNumber = utils.interactiveBlock(f\"{exposureId} {detId}\", \n",
    "                                                             detStats)\n",
    "        if continueDisplay is False:\n",
    "            break"
   ]
  },
  {
   "cell_type": "code",
   "execution_count": null,
   "id": "16d1482c",
   "metadata": {},
   "outputs": [],
   "source": []
  }
 ],
 "metadata": {
  "kernelspec": {
   "display_name": "LSST",
   "language": "python",
   "name": "lsst"
  },
  "language_info": {
   "codemirror_mode": {
    "name": "ipython",
    "version": 3
   },
   "file_extension": ".py",
   "mimetype": "text/x-python",
   "name": "python",
   "nbconvert_exporter": "python",
   "pygments_lexer": "ipython3",
   "version": "3.10.9"
  }
 },
 "nbformat": 4,
 "nbformat_minor": 5
}
