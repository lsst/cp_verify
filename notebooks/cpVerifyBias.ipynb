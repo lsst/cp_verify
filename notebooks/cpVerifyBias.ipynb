{
 "cells": [
  {
   "cell_type": "code",
   "execution_count": null,
   "id": "7ba868f8",
   "metadata": {},
   "outputs": [],
   "source": [
    "import matplotlib.pyplot as plt\n",
    "import numpy as np\n",
    "\n",
    "import lsst.daf.butler as dB\n",
    "import lsst.cp.verify.notebooks.utils as utils\n",
    "import lsst.afw.display as afwDisplay"
   ]
  },
  {
   "cell_type": "code",
   "execution_count": null,
   "id": "1f1a036e",
   "metadata": {
    "tags": [
     "parameters"
    ]
   },
   "outputs": [],
   "source": [
    "# This cell contains parameters that can be automatically set via the papermill package.\n",
    "# Examples:\n",
    "#   papermill --prepare-only -p calibType newBias -p cameraName LSSTCam <input> <output>\n",
    "#   papermill -p interactive False <input> <output>\n",
    "interactive = True\n",
    "\n",
    "# Which repository to use.\n",
    "repository = '/repo/main/'\n",
    "\n",
    "# Which calibration type to analyse.\n",
    "calibType = 'bias'\n",
    "\n",
    "# Which camera the calibration is for.\n",
    "cameraName = 'LATISS'\n",
    "\n",
    "# Which display to use.\n",
    "displayBackend = 'astrowidgets'\n",
    "\n",
    "# Which collection the calibration was constructed in.\n",
    "genCollection = 'u/czw/DM-28920/biasGen.20210702a'\n",
    "\n",
    "# Which collection containing the verification outputs.\n",
    "verifyCollection = 'u/czw/DM-28920/verifyBias.20210702a'"
   ]
  },
  {
   "cell_type": "code",
   "execution_count": null,
   "id": "d893e570",
   "metadata": {},
   "outputs": [],
   "source": [
    "# Get butler and camera\n",
    "butler = dB.Butler(repository, collections=[verifyCollection, genCollection])\n",
    "camera = butler.get('camera', instrument=cameraName)"
   ]
  },
  {
   "cell_type": "code",
   "execution_count": null,
   "id": "38a7a80a",
   "metadata": {},
   "outputs": [],
   "source": [
    "# Get Run Statistics\n",
    "runStats = butler.get('verifyBiasStats', instrument=cameraName)\n",
    "runSuccess = runStats.pop('SUCCESS')"
   ]
  },
  {
   "cell_type": "code",
   "execution_count": null,
   "id": "10e52009",
   "metadata": {
    "scrolled": true
   },
   "outputs": [],
   "source": [
    "# Display summary table of tests and failure counts.\n",
    "utils.failureTable(runStats)"
   ]
  },
  {
   "cell_type": "code",
   "execution_count": null,
   "id": "fc8f7160",
   "metadata": {
    "tags": []
   },
   "outputs": [],
   "source": [
    "# Plot focal plane, and display number of amp-level failures per detector.\n",
    "utils.plotFailures(runStats, camera, scaleFactor=8)"
   ]
  },
  {
   "cell_type": "code",
   "execution_count": null,
   "id": "9ce0e68f",
   "metadata": {},
   "outputs": [],
   "source": [
    "# This cell may be easier to follow in a new view via the\n",
    "#     \"Create New View for Output\" right-click menu.  \n",
    "afwDisplay.setDefaultBackend(displayBackend)\n",
    "display = afwDisplay.Display(dims=(1000, 1000))\n",
    "display.embed()"
   ]
  },
  {
   "cell_type": "code",
   "execution_count": null,
   "id": "b302b59f",
   "metadata": {},
   "outputs": [],
   "source": [
    "# View calibration images.\n",
    "viewCalibs = interactive\n",
    "if viewCalibs:\n",
    "    continueDisplay = True\n",
    "    for detector in camera:\n",
    "        detectorId = detector.getId()\n",
    "        calib = butler.get(calibType, instrument=cameraName, detector=detectorId)\n",
    "        calibArray = calib.getImage().getArray()\n",
    "\n",
    "        # Get simple stats\n",
    "        q25, q50, q75 = np.percentile(calibArray.flatten(), [25, 50, 75])\n",
    "        sigma = 0.74 * (q75 - q25)\n",
    "        print(f\"Detector: {detector.getName()} Median: {q50}   Stdev: {sigma}\")\n",
    "\n",
    "        display.mtv(calib)\n",
    "        display._scale('linear', (q50 - 3.0 * sigma), (q50 + 3.0* sigma), \"\")\n",
    "\n",
    "        continueDisplay, skipNumber = utils.interactiveBlock(f\"{calibType} {detector.getName()}\", \n",
    "                                                             {})\n",
    "        if continueDisplay is False:\n",
    "            break"
   ]
  },
  {
   "cell_type": "code",
   "execution_count": null,
   "id": "6e9092b6",
   "metadata": {},
   "outputs": [],
   "source": [
    "# This block allows the residual images to be examined.\n",
    "blinkResiduals = interactive\n",
    "if blinkResiduals:\n",
    "    continueDisplay = True\n",
    "    skipNumber = 0\n",
    "    for exposureId, stats in runStats.items():\n",
    "        for detector in camera:\n",
    "            if skipNumber > 0:\n",
    "                skipNumber -= 1\n",
    "                continue\n",
    "\n",
    "            detId = detector.getId()\n",
    "            residual = butler.get('verifyBiasProc', instrument=cameraName, \n",
    "                                  exposure=exposureId, detector=detId)\n",
    "            detStats = butler.get('verifyBiasDetStats', instrument=cameraName, \n",
    "                                  exposure=exposureId, detector=detId)\n",
    "            display.mtv(residual)    \n",
    "            display.scale('linear', 'zscale', None)\n",
    "\n",
    "            continueDisplay, skipNumber = utils.interactiveBlock(f\"{exposureId} {detector.getName()}\", \n",
    "                                                                 detStats)\n",
    "            if continueDisplay is False:\n",
    "                break\n",
    "        if continueDisplay is False:\n",
    "            break"
   ]
  },
  {
   "cell_type": "code",
   "execution_count": null,
   "id": "0fea4433",
   "metadata": {},
   "outputs": [],
   "source": []
  }
 ],
 "metadata": {
  "kernelspec": {
   "display_name": "LSST",
   "language": "python",
   "name": "lsst"
  },
  "language_info": {
   "codemirror_mode": {
    "name": "ipython",
    "version": 3
   },
   "file_extension": ".py",
   "mimetype": "text/x-python",
   "name": "python",
   "nbconvert_exporter": "python",
   "pygments_lexer": "ipython3",
   "version": "3.10.9"
  }
 },
 "nbformat": 4,
 "nbformat_minor": 5
}
