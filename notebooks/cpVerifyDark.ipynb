{
 "cells": [
  {
   "cell_type": "code",
   "execution_count": null,
   "id": "8aa75eb3",
   "metadata": {},
   "outputs": [],
   "source": [
    "import matplotlib.pyplot as plt\n",
    "import numpy as np\n",
    "\n",
    "import lsst.daf.butler as dB\n",
    "import lsst.cp.verify.notebooks.utils as utils\n",
    "import lsst.afw.display as afwDisplay"
   ]
  },
  {
   "cell_type": "code",
   "execution_count": null,
   "id": "84dccd11",
   "metadata": {
    "tags": [
     "parameters"
    ]
   },
   "outputs": [],
   "source": [
    "# This cell contains parameters that can be automatically set via the papermill package.\n",
    "# Examples:\n",
    "#   papermill --prepare-only -p calibType newBias -p cameraName LSSTCam <input> <output>\n",
    "#   papermill -p interactive False <input> <output>\n",
    "interactive = True\n",
    "\n",
    "# Which repository to use.\n",
    "repository = '/repo/main/'\n",
    "\n",
    "# Which calibration type to analyse.\n",
    "calibType = 'dark'\n",
    "\n",
    "# Which camera the calibration is for.\n",
    "cameraName = 'LATISS'\n",
    "\n",
    "# Which display to use.\n",
    "displayBackend = 'astrowidgets'\n",
    "\n",
    "# Which collection the calibration was constructed in.\n",
    "genCollection = 'u/czw/DM-28920/darkGen.20210707d'\n",
    "\n",
    "# Which collection containing the verification outputs.\n",
    "verifyCollection = 'u/czw/DM-28920/verifyDark.20210707d'"
   ]
  },
  {
   "cell_type": "code",
   "execution_count": null,
   "id": "01855373",
   "metadata": {},
   "outputs": [],
   "source": [
    "# Get butler and camera\n",
    "butler = dB.Butler(repository, collections=[verifyCollection, genCollection])\n",
    "camera = butler.get('camera', instrument=cameraName)"
   ]
  },
  {
   "cell_type": "code",
   "execution_count": null,
   "id": "3311216b",
   "metadata": {},
   "outputs": [],
   "source": [
    "# Get Run Statistics\n",
    "runStats = butler.get('verifyDarkStats', instrument=cameraName)\n",
    "runSuccess = runStats.pop('SUCCESS')"
   ]
  },
  {
   "cell_type": "code",
   "execution_count": null,
   "id": "bc6a00ef",
   "metadata": {},
   "outputs": [],
   "source": [
    "# Display summary table of tests and failure counts.\n",
    "utils.failureTable(runStats)"
   ]
  },
  {
   "cell_type": "code",
   "execution_count": null,
   "id": "3100554b",
   "metadata": {},
   "outputs": [],
   "source": [
    "# Plot focal plane, and display number of amp-level failures per detector.\n",
    "utils.plotFailures(runStats, camera, scaleFactor=8)"
   ]
  },
  {
   "cell_type": "code",
   "execution_count": null,
   "id": "2de1cdef",
   "metadata": {},
   "outputs": [],
   "source": [
    "# This cell may be easier to follow in a new view via the\n",
    "#     \"Create New View for Output\" right-click menu.  \n",
    "afwDisplay.setDefaultBackend(displayBackend)\n",
    "display = afwDisplay.Display(dims=(1000, 1000))\n",
    "display.embed()"
   ]
  },
  {
   "cell_type": "code",
   "execution_count": null,
   "id": "d2970a6f",
   "metadata": {},
   "outputs": [],
   "source": [
    "# View calibration images:\n",
    "viewCalibs = interactive\n",
    "if viewCalibs:\n",
    "    continueDisplay = True\n",
    "    for detector in camera:\n",
    "        detectorId = detector.getId()\n",
    "        calib = butler.get(calibType, instrument=cameraName, detector=detectorId)\n",
    "        calibArray = calib.getImage().getArray()\n",
    "\n",
    "        # Get simple stats\n",
    "        q25, q50, q75 = np.percentile(calibArray.flatten(), [25, 50, 75])\n",
    "        sigma = 0.74 * (q75 - q25)\n",
    "        print(f\"Detector: {detector.getName()} Median: {q50}   Stdev: {sigma}\")\n",
    "    \n",
    "        display.mtv(calib)\n",
    "        display._scale('linear', (q50 - 3.0 * sigma), (q50 + 3.0* sigma), \"\")\n",
    "\n",
    "        continueDisplay, skipNumber = utils.interactiveBlock(f\"{calibType} {detector.getName()}\", \n",
    "                                                             {})\n",
    "        if continueDisplay is False:\n",
    "            break"
   ]
  },
  {
   "cell_type": "code",
   "execution_count": null,
   "id": "0d97491f",
   "metadata": {
    "scrolled": true
   },
   "outputs": [],
   "source": [
    "# This block allows the residual images to be scanned for concerns.\n",
    "blinkResiduals = interactive\n",
    "if blinkResiduals:\n",
    "    continueDisplay = True\n",
    "    skipNumber = 0\n",
    "    for exposureId, stats in runStats.items():\n",
    "        for detector in camera:\n",
    "            if skipNumber > 0:\n",
    "                skipNumber -= 1\n",
    "                continue\n",
    "        \n",
    "            detId = detector.getId()\n",
    "            residual = butler.get('verifyDarkProc', instrument=cameraName, exposure=exposureId, detector=0)\n",
    "            detStats = butler.get('verifyDarkDetStats', instrument=cameraName, exposure=exposureId, detector=0)\n",
    "            display.mtv(residual)\n",
    "            display.scale('linear', 'zscale', None)\n",
    "\n",
    "            continueDisplay, skipNumber = utils.interactiveBlock(f\"{exposureId} {detector.getName()}\", detStats)\n",
    "            if continueDisplay is False:\n",
    "                break\n",
    "        if continueDisplay is False:\n",
    "            break"
   ]
  },
  {
   "cell_type": "code",
   "execution_count": null,
   "id": "970fb78b",
   "metadata": {},
   "outputs": [],
   "source": [
    "# Additional cells follow here."
   ]
  },
  {
   "cell_type": "code",
   "execution_count": null,
   "id": "8aa85f8e",
   "metadata": {},
   "outputs": [],
   "source": [
    "# Get data for mean(darkTime) plot.\n",
    "ampMeans = {}\n",
    "for detector in camera:\n",
    "    ampMeans[detector.getName()] = {}\n",
    "    for amp in detector.getAmplifiers():\n",
    "        ampMeans[detector.getName()][amp.getName()] = {'DARKTIME': [], 'MEAN': []}\n",
    "\n",
    "for exposureId, stats in runStats.items():\n",
    "    dimensionRecord = butler.registry.queryDimensionRecords('exposure', \n",
    "                                                            instrument=cameraName, \n",
    "                                                            exposure=exposureId)\n",
    "    darkTime = list(dimensionRecord)[0].dark_time\n",
    "\n",
    "    for detector in camera:\n",
    "        detId = detector.getId()\n",
    "        detStats = butler.get('verifyDarkDetStats', instrument=cameraName, \n",
    "                              exposure=exposureId, detector=detId)\n",
    "  \n",
    "        for amp in detector.getAmplifiers():\n",
    "            mean = detStats['AMP'][amp.getName()]['MEAN']\n",
    "            ampMeans[detector.getName()][amp.getName()]['DARKTIME'].append(darkTime)\n",
    "            ampMeans[detector.getName()][amp.getName()]['MEAN'].append(mean)"
   ]
  },
  {
   "cell_type": "code",
   "execution_count": null,
   "id": "75d651bc",
   "metadata": {},
   "outputs": [],
   "source": [
    "# Plot mean as a function of exposure time, to confirm the residual is flat.\n",
    "for detector in camera:\n",
    "    detName = detector.getName()\n",
    "    horizontalSpace = 0.5\n",
    "    verticalSpace = 0.0\n",
    "    plt.figure(figsize=(8, 8))\n",
    "    for spacer, amp in enumerate(detector.getAmplifiers()):\n",
    "        plt.scatter(np.array(ampMeans[detName][amp.getName()]['DARKTIME']) + horizontalSpace * spacer,\n",
    "                    np.array(ampMeans[detName][amp.getName()]['MEAN']) + verticalSpace * spacer,\n",
    "                    label=amp.getName())\n",
    "    plt.xlabel(\"DarkTime (s)\")\n",
    "    plt.ylabel(\"Residual Mean (ADU)\")\n",
    "    plt.title(f\"{calibType} {cameraName} {detName} {verifyCollection}\")\n",
    "    plt.legend()\n",
    "    plt.show()"
   ]
  },
  {
   "cell_type": "code",
   "execution_count": null,
   "id": "95e08b15",
   "metadata": {},
   "outputs": [],
   "source": []
  }
 ],
 "metadata": {
  "kernelspec": {
   "display_name": "LSST",
   "language": "python",
   "name": "lsst"
  },
  "language_info": {
   "codemirror_mode": {
    "name": "ipython",
    "version": 3
   },
   "file_extension": ".py",
   "mimetype": "text/x-python",
   "name": "python",
   "nbconvert_exporter": "python",
   "pygments_lexer": "ipython3",
   "version": "3.10.9"
  }
 },
 "nbformat": 4,
 "nbformat_minor": 5
}
