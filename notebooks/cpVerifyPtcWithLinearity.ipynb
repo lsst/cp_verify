{
 "cells": [
  {
   "cell_type": "code",
   "execution_count": null,
   "id": "8aa75eb3",
   "metadata": {},
   "outputs": [],
   "source": [
    "import matplotlib.pyplot as plt\n",
    "import numpy as np\n",
    "\n",
    "import lsst.daf.butler as dB\n",
    "import lsst.cp.verify.notebooks.utils as utils\n",
    "import lsst.afw.display as afwDisplay"
   ]
  },
  {
   "cell_type": "code",
   "execution_count": null,
   "id": "84dccd11",
   "metadata": {
    "tags": [
     "parameters"
    ]
   },
   "outputs": [],
   "source": [
    "# This cell contains parameters that can be automatically set via the papermill package.\n",
    "# Examples:\n",
    "#   papermill --prepare-only -p calibType newBias -p cameraName LSSTCam <input> <output>\n",
    "#   papermill -p interactive False <input> <output>\n",
    "interactive = True\n",
    "\n",
    "# Which repository to use.\n",
    "repository = '/repo/main/'\n",
    "\n",
    "# Which calibration type to analyse.\n",
    "calibType = 'ptc'\n",
    "detectorNumber = 0\n",
    "\n",
    "# Which camera the calibration is for.\n",
    "cameraName = 'LATISS'\n",
    "\n",
    "# Which display to use.\n",
    "displayBackend = 'astrowidgets'\n",
    "\n",
    "# Which collections the calibration was constructed in.\n",
    "genCollection = 'u/czw/DM-28920/ptcGen.20210723Ya'\n",
    "genCollection2 = 'u/czw/DM-28920/ptcGen.20210723Yb'\n",
    "\n",
    "# Which collections containing the original outputs.\n",
    "originalGenCollection = 'u/czw/DM-28920/ptcGen.20210722a'\n",
    "originalGenCollection2 = 'u/czw/DM-28920/ptcGen.20210722b'\n",
    "\n",
    "# Which collection contains the linearity output.\n",
    "linearityCollection = 'u/czw/DM-28920/linearityGen.20210721a'"
   ]
  },
  {
   "cell_type": "code",
   "execution_count": null,
   "id": "01855373",
   "metadata": {},
   "outputs": [],
   "source": [
    "# Get butler and camera\n",
    "butler = dB.Butler(repository, collections=[genCollection, genCollection2, \n",
    "                                            originalGenCollection, \n",
    "                                            originalGenCollection2])\n",
    "camera = butler.get('camera', instrument=cameraName)"
   ]
  },
  {
   "cell_type": "code",
   "execution_count": null,
   "id": "69fbc682",
   "metadata": {},
   "outputs": [],
   "source": [
    "# Instantiate separate butlers to ensure the correct dataset is found.\n",
    "butler = dB.Butler(repository, collections=[genCollection])\n",
    "ptcA = butler.get('ptc', instrument=cameraName, detector=detectorNumber)\n",
    "print(ptcA.getMetadata()['CALIBDATE'])\n",
    "\n",
    "butler = dB.Butler(repository, collections=[genCollection2])\n",
    "ptcB = butler.get('ptc', instrument=cameraName, detector=detectorNumber)\n",
    "print(ptcB.getMetadata()['CALIBDATE'])\n",
    "\n",
    "butler = dB.Butler(repository, collections=[originalGenCollection])\n",
    "ptcOA = butler.get('ptc', instrument=cameraName, detector=detectorNumber)\n",
    "print(ptcOA.getMetadata()['CALIBDATE'])\n",
    "\n",
    "butler = dB.Butler(repository, collections=[originalGenCollection2])\n",
    "ptcOB = butler.get('ptc', instrument=cameraName, detector=detectorNumber)\n",
    "print(ptcOB.getMetadata()['CALIBDATE'])"
   ]
  },
  {
   "cell_type": "code",
   "execution_count": null,
   "id": "a038b7b0",
   "metadata": {},
   "outputs": [],
   "source": [
    "# Get linearizer\n",
    "linearizer = butler.get('linearity', instrument=cameraName, detector=detectorNumber, \n",
    "                        collections=linearityCollection)"
   ]
  },
  {
   "cell_type": "code",
   "execution_count": null,
   "id": "ff8eb436",
   "metadata": {},
   "outputs": [],
   "source": [
    "# View plots.\n",
    "viewPlots = interactive\n",
    "if viewPlots:\n",
    "    for amp in ptcA.ampNames:\n",
    "        plt.scatter(ptcA.rawMeans[amp], ptcA.rawVars[amp], marker='o', label=\"PTCA\")\n",
    "        plt.scatter(ptcB.rawMeans[amp], ptcB.rawVars[amp], marker='o', label=\"PTCA\")\n",
    "\n",
    "        plt.scatter(ptcA.finalMeans[amp], ptcA.finalVars[amp], marker='v', label=\"PTCA\")\n",
    "        plt.scatter(ptcB.finalMeans[amp], ptcB.finalVars[amp], marker='^', label='PTCB')\n",
    "    \n",
    "        plt.scatter(ptcOA.finalMeans[amp], ptcOA.finalVars[amp], marker='<', label=\"PTCA\")\n",
    "        plt.scatter(ptcOB.finalMeans[amp], ptcOB.finalVars[amp], marker='>', label='PTCB')\n",
    "\n",
    "        plt.show()\n",
    "    \n",
    "        continueDisplay, skipNumber = utils.interactiveBlock(f\"{calibType} {detector.getName()}\", \n",
    "                                                             {})\n",
    "        if continueDisplay is False:\n",
    "            break"
   ]
  },
  {
   "cell_type": "code",
   "execution_count": null,
   "id": "e07549d5",
   "metadata": {},
   "outputs": [],
   "source": [
    "# Non interactive plots\n",
    "plt.scatter(np.array(list(ptcA.gain.values())), \n",
    "            np.array(list(ptcA.gain.values())) - np.array(list(ptcB.gain.values())), \n",
    "            marker='+', label=\"PTCA\")\n",
    "plt.scatter(np.array(list(ptcA.noise.values())), \n",
    "            np.array(list(ptcA.noise.values())) - np.array(list(ptcB.noise.values())),\n",
    "            marker='x', label='PTCB')\n",
    "plt.show()\n",
    "print(\"A Gain:\", [f\"{x:.3f}\" for x in ptcA.gain.values()])\n",
    "print(\"A RN:  \", [f\"{x:.3f}\" for x in ptcA.noise.values()])\n",
    "\n",
    "print(\"B Gain:\", [f\"{x:.3f}\" for x in ptcB.gain.values()])\n",
    "print(\"B RN:  \", [f\"{x:.3f}\" for x in ptcB.noise.values()])"
   ]
  },
  {
   "cell_type": "code",
   "execution_count": null,
   "id": "7a6ebf85",
   "metadata": {},
   "outputs": [],
   "source": []
  }
 ],
 "metadata": {
  "kernelspec": {
   "display_name": "LSST",
   "language": "python",
   "name": "lsst"
  },
  "language_info": {
   "codemirror_mode": {
    "name": "ipython",
    "version": 3
   },
   "file_extension": ".py",
   "mimetype": "text/x-python",
   "name": "python",
   "nbconvert_exporter": "python",
   "pygments_lexer": "ipython3",
   "version": "3.10.9"
  }
 },
 "nbformat": 4,
 "nbformat_minor": 5
}
