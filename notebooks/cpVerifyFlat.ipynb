{
 "cells": [
  {
   "cell_type": "code",
   "execution_count": null,
   "id": "8aa75eb3",
   "metadata": {
    "scrolled": true,
    "tags": []
   },
   "outputs": [],
   "source": [
    "import matplotlib.pyplot as plt\n",
    "import numpy as np\n",
    "\n",
    "import lsst.daf.butler as dB\n",
    "import lsst.cp.verify.notebooks.utils as utils\n",
    "import lsst.afw.display as afwDisplay"
   ]
  },
  {
   "cell_type": "code",
   "execution_count": null,
   "id": "84dccd11",
   "metadata": {
    "scrolled": true,
    "tags": [
     "parameters"
    ]
   },
   "outputs": [],
   "source": [
    "# This cell contains parameters that can be automatically set via the papermill package.\n",
    "# Examples:\n",
    "#  Update parameters in input.ipynb, writing output.ipynb, but do not execute:\n",
    "#   papermill --prepare-only -p calibType newBias -p cameraName LSSTCam <input> <output>\n",
    "#  Disable interactive cells in input.ipynb, execute it, and write output.ipynb.\n",
    "#   papermill -p interactive False <input> <output>\n",
    "interactive = True\n",
    "\n",
    "# Which repository to use.\n",
    "repository = '/repo/embargo/'\n",
    "\n",
    "# Which calibration type to analyse.\n",
    "calibType = 'flat'\n",
    "physical_filter = 'BG40_65mm_1~empty'\n",
    "\n",
    "# Which camera the calibration is for.\n",
    "cameraName = 'LATISS'\n",
    "\n",
    "# Which display to use.\n",
    "displayBackend = 'astrowidgets'\n",
    "   \n",
    "# Which collection the calibration was constructed in.\n",
    "genCollection = 'LATISS/calib/DM-37587/flatGen-BG40.20230113a'\n",
    "\n",
    "# Which collection containing the verification outputs.\n",
    "verifyCollection = 'LATISS/calib/DM-37587/verifyFlat-BG40.20230113a'"
   ]
  },
  {
   "cell_type": "code",
   "execution_count": null,
   "id": "01855373",
   "metadata": {
    "scrolled": true,
    "tags": []
   },
   "outputs": [],
   "source": [
    "# Get butler and camera\n",
    "butler = dB.Butler(repository, collections=[verifyCollection, genCollection])\n",
    "camera = butler.get('camera', instrument=cameraName)"
   ]
  },
  {
   "cell_type": "code",
   "execution_count": null,
   "id": "3311216b",
   "metadata": {
    "scrolled": true,
    "tags": []
   },
   "outputs": [],
   "source": [
    "# Get Run Statistics\n",
    "runStats = butler.get('verifyFlatStats', instrument=cameraName)\n",
    "runSuccess = runStats.pop('SUCCESS')"
   ]
  },
  {
   "cell_type": "code",
   "execution_count": null,
   "id": "dd1060da",
   "metadata": {
    "scrolled": true,
    "tags": []
   },
   "outputs": [],
   "source": [
    "# Display summary table of tests and failure counts.\n",
    "utils.failureTable(runStats)"
   ]
  },
  {
   "cell_type": "code",
   "execution_count": null,
   "id": "3100554b",
   "metadata": {
    "scrolled": true,
    "tags": []
   },
   "outputs": [],
   "source": [
    "utils.plotFailures(runStats, camera, scaleFactor=8)"
   ]
  },
  {
   "cell_type": "code",
   "execution_count": null,
   "id": "75d651bc",
   "metadata": {
    "scrolled": true,
    "tags": []
   },
   "outputs": [],
   "source": [
    "# Get data for mean(expTime) plot.\n",
    "ampMeans = {}\n",
    "expIds = []\n",
    "for detector in camera:\n",
    "    ampMeans[detector.getName()] = {}\n",
    "    for amp in detector.getAmplifiers():\n",
    "        ampMeans[detector.getName()][amp.getName()] = {'ID': [], 'EXPTIME': [], \n",
    "                                                       'MEAN': []}\n",
    "\n",
    "for exposureId, stats in runStats.items():\n",
    "    dimensionRecord = butler.registry.queryDimensionRecords('exposure', \n",
    "                                                            instrument=cameraName, \n",
    "                                                            exposure=exposureId)\n",
    "    expTime = list(dimensionRecord)[0].exposure_time\n",
    "    expIds.append(exposureId)\n",
    "    for detector in camera:\n",
    "        detId = detector.getId()\n",
    "        detStats = butler.get('verifyFlatDetStats', instrument=cameraName, \n",
    "                              exposure=exposureId, detector=detId)\n",
    "    \n",
    "        for amp in detector.getAmplifiers():\n",
    "            mean = detStats['AMP'][amp.getName()]['MEAN']\n",
    "            ampMeans[detector.getName()][amp.getName()]['ID'].append(exposureId)\n",
    "            ampMeans[detector.getName()][amp.getName()]['MEAN'].append(mean)\n",
    "            ampMeans[detector.getName()][amp.getName()]['EXPTIME'].append(expTime)"
   ]
  },
  {
   "cell_type": "code",
   "execution_count": null,
   "id": "c465804b",
   "metadata": {
    "tags": []
   },
   "outputs": [],
   "source": [
    "# Plot flux as a function of exposure id, to look for time trends.\n",
    "for detector in camera:\n",
    "    detName = detector.getName()\n",
    "    horizontalSpace = 0.0\n",
    "    verticalSpace = 150\n",
    "    plt.figure(figsize=(8, 8))\n",
    "    fig, axes = plt.subplots(1, 2, figsize=(2 * 8, 8))\n",
    "    for axis, chunk in zip(axes, [0, 1]):\n",
    "        for spacer, amp in enumerate(detector.getAmplifiers()):\n",
    "            axis.scatter(np.array(ampMeans[detName][amp.getName()]['ID']) + \n",
    "                         horizontalSpace * spacer,\n",
    "                         np.array(ampMeans[detName][amp.getName()]['MEAN']) /\n",
    "                         np.array(ampMeans[detName][amp.getName()]['EXPTIME']) + \n",
    "                         verticalSpace * spacer,\n",
    "                        label=amp.getName())\n",
    "        axis.set_xlabel(\"expId\")\n",
    "        axis.set_ylabel(\"Residual Flux (ADU/s) + Spacer\")\n",
    "\n",
    "        \n",
    "        if chunk == 0:\n",
    "            axis.set_xlim(min(expIds), max(expIds)) # This may need editing.\n",
    "            axis.set_title(f\"{calibType} {cameraName} {verifyCollection} ConstructionSet\")\n",
    "        else:\n",
    "            axis.set_xlim(min(expIds), max(expIds)) # This may need editing.\n",
    "            axis.set_title(f\"{calibType} {cameraName} {verifyCollection} VerificationSet\")\n",
    "        axis.legend()\n",
    "    plt.show()"
   ]
  },
  {
   "cell_type": "code",
   "execution_count": null,
   "id": "1353bf0f",
   "metadata": {
    "tags": []
   },
   "outputs": [],
   "source": [
    "# Plot flux as a function of exposure time, to confirm the residual is flat.\n",
    "for detector in camera:\n",
    "    detName = detector.getName()\n",
    "\n",
    "    horizontalSpace = 0.0\n",
    "    verticalSpace = 150\n",
    "    plt.figure(figsize=(8, 8))\n",
    "    fig, axes = plt.subplots(1, 2, figsize=(2 * 8, 8))\n",
    "    for axis, chunk in zip(axes, [0, 1]):\n",
    "        for spacer, amp in enumerate(detector.getAmplifiers()):\n",
    "            axis.scatter(np.array(ampMeans[detName][amp.getName()]['EXPTIME']) + \n",
    "                         horizontalSpace * spacer,\n",
    "                         np.array(ampMeans[detName][amp.getName()]['MEAN']) /\n",
    "                         np.array(ampMeans[detName][amp.getName()]['EXPTIME']) + \n",
    "                         verticalSpace * spacer,\n",
    "                        label=amp.getName())\n",
    "        axis.set_xlabel(\"exposureTime\")\n",
    "        axis.set_ylabel(\"Residual Flux (ADU/s) + Spacer\")\n",
    "\n",
    "        if chunk == 0:\n",
    "            axis.set_title(f\"{calibType} {cameraName} {verifyCollection} ConstructionSet\")\n",
    "        else:\n",
    "            axis.set_title(f\"{calibType} {cameraName} {verifyCollection} VerificationSet\")\n",
    "        axis.legend()\n",
    "    plt.show()"
   ]
  },
  {
   "cell_type": "code",
   "execution_count": null,
   "id": "2de1cdef",
   "metadata": {
    "tags": []
   },
   "outputs": [],
   "source": [
    "# This cell may be easier to follow in a new view via the\n",
    "#     \"Create New View for Output\" right-click menu.  \n",
    "afwDisplay.setDefaultBackend(displayBackend)\n",
    "display = afwDisplay.Display(dims=(1000, 1000))\n",
    "display.embed()"
   ]
  },
  {
   "cell_type": "code",
   "execution_count": null,
   "id": "7e3ddfb0",
   "metadata": {
    "tags": []
   },
   "outputs": [],
   "source": [
    "# View calibration images:\n",
    "viewCalibs = interactive\n",
    "if viewCalibs:\n",
    "    continueDisplay = True\n",
    "    for detector in camera:\n",
    "        detectorId = detector.getId()\n",
    "        calib = butler.get(calibType, instrument=cameraName, \n",
    "                           physical_filter=physical_filter, detector=detectorId)\n",
    "        calibArray = calib.getImage().getArray()\n",
    "\n",
    "        # Get simple stats\n",
    "        q25, q50, q75 = np.percentile(calibArray.flatten(), [25, 50, 75])\n",
    "        sigma = 0.74 * (q75 - q25)\n",
    "        print(f\"Detector: {detector.getName()} Median: {q50}   Stdev: {sigma}\")\n",
    "\n",
    "        display.mtv(calib)\n",
    "        display._scale('linear', (q50 - 3.0 * sigma), (q50 + 3.0* sigma), \"\")\n",
    "\n",
    "        continueDisplay, skipNumber = utils.interactiveBlock(f\"{calibType} {detector.getName()}\", \n",
    "                                                             {})\n",
    "        if continueDisplay is False:\n",
    "            break"
   ]
  },
  {
   "cell_type": "code",
   "execution_count": null,
   "id": "0d97491f",
   "metadata": {
    "tags": []
   },
   "outputs": [],
   "source": [
    "# This block allows the residual images to be scanned for concerns.\n",
    "blinkResiduals = interactive\n",
    "if blinkResiduals:\n",
    "    continueDisplay = True\n",
    "    skipNumber = 0\n",
    "    for exposureId, stats in runStats.items():\n",
    "        for detector in camera:\n",
    "            if skipNumber > 0:\n",
    "                skipNumber -= 1\n",
    "                continue\n",
    "        \n",
    "            detId = detector.getId()\n",
    "            residual = butler.get('verifyFlatProc', instrument=cameraName, \n",
    "                                  exposure=exposureId, detector=detId)\n",
    "            detStats = butler.get('verifyFlatDetStats', instrument=cameraName, \n",
    "                                  exposure=exposureId, detector=detId)\n",
    "            display.mtv(residual)\n",
    "            display.scale('linear', 'zscale', None)\n",
    "        \n",
    "            continueDisplay, skipNumber = utils.interactiveBlock(f\"{exposureId} {detector.getName()}\", detStats)\n",
    "            if continueDisplay is False:\n",
    "                break\n",
    "        if continueDisplay is False:\n",
    "            break"
   ]
  },
  {
   "cell_type": "code",
   "execution_count": null,
   "id": "7da7cc53",
   "metadata": {},
   "outputs": [],
   "source": [
    "# Additional cells follow here."
   ]
  },
  {
   "cell_type": "code",
   "execution_count": null,
   "id": "a014b34a-e7fe-4e64-96ac-cc0df4186a21",
   "metadata": {},
   "outputs": [],
   "source": []
  }
 ],
 "metadata": {
  "kernelspec": {
   "display_name": "LSST",
   "language": "python",
   "name": "lsst"
  },
  "language_info": {
   "codemirror_mode": {
    "name": "ipython",
    "version": 3
   },
   "file_extension": ".py",
   "mimetype": "text/x-python",
   "name": "python",
   "nbconvert_exporter": "python",
   "pygments_lexer": "ipython3",
   "version": "3.10.9"
  }
 },
 "nbformat": 4,
 "nbformat_minor": 5
}
