{
 "cells": [
  {
   "cell_type": "code",
   "execution_count": null,
   "id": "7ba868f8",
   "metadata": {},
   "outputs": [],
   "source": [
    "import matplotlib.pyplot as plt\n",
    "import numpy as np\n",
    "\n",
    "import lsst.daf.butler as dB\n",
    "import lsst.cp.verify.notebooks.utils as utils\n",
    "import lsst.afw.display as afwDisplay"
   ]
  },
  {
   "cell_type": "code",
   "execution_count": null,
   "id": "1f1a036e",
   "metadata": {
    "tags": [
     "parameters"
    ]
   },
   "outputs": [],
   "source": [
    "# This cell contains parameters that can be automatically set via the papermill package.\n",
    "# Examples:\n",
    "#   papermill --prepare-only -p calibType newBias -p cameraName LSSTCam <input> <output>\n",
    "#   papermill -p interactive False <input> <output>\n",
    "interactive = True\n",
    "\n",
    "# Which repository to use.\n",
    "repository = '/repo/main/'\n",
    "\n",
    "# Which calibration type to analyse.\n",
    "calibType = 'cpPtcExtract'\n",
    "exposureNumber = 2022021800078\n",
    "\n",
    "# Which camera the calibration is for.\n",
    "cameraName = 'LSSTComCam'\n",
    "\n",
    "# Which display to use.\n",
    "displayBackend = 'matplotlib'\n",
    "\n",
    "# Which collection the calibration was constructed in.\n",
    "genCollection = 'u/plazas/2022SEP20-ptc.comcam.DM-34867-FULLCOV.1'\n",
    "\n",
    "# Which collection containing the verification outputs.\n",
    "verifyCollection = 'u/plazas/DM-34867-2022SEP26-VERIFY-gain.comcam.FULLCOV.5'"
   ]
  },
  {
   "cell_type": "code",
   "execution_count": null,
   "id": "d893e570",
   "metadata": {},
   "outputs": [],
   "source": [
    "# Get butler and camera\n",
    "# the genCollection has the camera\n",
    "butler = dB.Butler(repository, collections=[genCollection,verifyCollection])\n",
    "camera = butler.get('camera', instrument=cameraName)\n",
    "numberDetectors = len(camera)"
   ]
  },
  {
   "cell_type": "code",
   "execution_count": null,
   "id": "38a7a80a",
   "metadata": {},
   "outputs": [],
   "source": [
    "# Get Run Statistics\n",
    "runStats = butler.get('verifyGainStats', instrument=cameraName)\n",
    "runSuccess = runStats.pop('SUCCESS')"
   ]
  },
  {
   "cell_type": "code",
   "execution_count": null,
   "id": "10e52009",
   "metadata": {
    "scrolled": true
   },
   "outputs": [],
   "source": [
    "# Display summary table of tests and failure counts.\n",
    "utils.failureTable(runStats)"
   ]
  },
  {
   "cell_type": "code",
   "execution_count": null,
   "id": "c8bf1e72-5c7e-494a-a0ec-5abf786b129e",
   "metadata": {},
   "outputs": [],
   "source": [
    "# Let's look at the values to understand better the table from above.\n",
    "# calibType with gain and ISR noise is `cpPtcExtract`, from the gain-from-flat-pairs \n",
    "# subset in the cpPtc.yaml\n",
    "gainThreshold = 5  # percentage, default value in config\n",
    "noiseThreshold = 5 # percentage, default value in config\n",
    "for detector in camera:\n",
    "    detId = detector.getId()\n",
    "    calib = butler.get(calibType, instrument=cameraName, \n",
    "                       detector=detId, exposure=exposureNumber)\n",
    "    print (f\"Detector ID: {detId}\")\n",
    "    for amp in detector:\n",
    "        ampName = amp.getName()\n",
    "        print (f\"    {ampName}\")\n",
    "        diffGain = 100* (np.abs(calib.gain[ampName] - amp.getGain()) / amp.getGain())\n",
    "        diffNoise = 100* (np.abs(calib.noise[ampName] - amp.getReadNoise()) / amp.getReadNoise())\n",
    "        testGain = bool(diffGain > gainThreshold)\n",
    "        testNoise = bool(diffNoise > noiseThreshold)\n",
    "        print ( f\"Noise --  Difference(%): {diffNoise}, ISR noise: {calib.noise[ampName]}, Amp. Noise {amp.getReadNoise()}\")\n",
    "        print ( f\"Gain  --  Difference(%): {diffGain}, Gain from pair: {calib.gain[ampName]}, Amp. gain {amp.getGain()}\")\n",
    "        print (\" \")\n",
    "    print(\" \")\n",
    "    print(\" \")"
   ]
  },
  {
   "cell_type": "code",
   "execution_count": null,
   "id": "ce20442d-b905-43ce-8377-806355a44ecb",
   "metadata": {},
   "outputs": [],
   "source": [
    "# Gain, ISR noise and other values from 'cpPtcExtract' are saved as 'AMP' statistics\n",
    "for detector in camera:\n",
    "    detId = detector.getId()\n",
    "    detStats = butler.get(\"verifyGainDetStats\", instrument=cameraName, detector=detId)\n",
    "    print (\"Detector ID: \", detId) \n",
    "    print (\"    Overall success: \", detStats['SUCCESS'])\n",
    "    print (\"    Overall success per test type: \", detStats['VERIFY'])\n",
    "    for ampName in detStats['AMP']:\n",
    "        print (f\"    {ampName}\", detStats['AMP'][ampName])\n",
    "    print (\" \")"
   ]
  },
  {
   "cell_type": "code",
   "execution_count": null,
   "id": "63b73444-174e-47e0-b9b8-b5619301b598",
   "metadata": {},
   "outputs": [],
   "source": []
  }
 ],
 "metadata": {
  "kernelspec": {
   "display_name": "LSST",
   "language": "python",
   "name": "lsst"
  },
  "language_info": {
   "codemirror_mode": {
    "name": "ipython",
    "version": 3
   },
   "file_extension": ".py",
   "mimetype": "text/x-python",
   "name": "python",
   "nbconvert_exporter": "python",
   "pygments_lexer": "ipython3",
   "version": "3.10.9"
  }
 },
 "nbformat": 4,
 "nbformat_minor": 5
}
