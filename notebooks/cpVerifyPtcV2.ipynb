{
 "cells": [
  {
   "cell_type": "code",
   "execution_count": null,
   "id": "7ba868f8",
   "metadata": {},
   "outputs": [],
   "source": [
    "import matplotlib.pyplot as plt\n",
    "import numpy as np\n",
    "\n",
    "import lsst.daf.butler as dB\n",
    "import lsst.cp.verify.notebooks.utils as utils\n",
    "import lsst.afw.display as afwDisplay"
   ]
  },
  {
   "cell_type": "code",
   "execution_count": null,
   "id": "1f1a036e",
   "metadata": {
    "tags": [
     "parameters"
    ]
   },
   "outputs": [],
   "source": [
    "# This cell contains parameters that can be automatically set via the papermill package.\n",
    "# Examples:\n",
    "#   papermill --prepare-only -p calibType newBias -p cameraName LSSTCam <input> <output>\n",
    "#   papermill -p interactive False <input> <output>\n",
    "interactive = True\n",
    "\n",
    "# Which repository to use.\n",
    "repository = '/repo/main/'\n",
    "\n",
    "# Which calibration type to analyse.\n",
    "calibType = 'ptc'\n",
    "exposureNumber = 2022021800078\n",
    "\n",
    "# Which camera the calibration is for.\n",
    "cameraName = 'LSSTComCam'\n",
    "\n",
    "# Which display to use.\n",
    "displayBackend = 'matplotlib'\n",
    "\n",
    "# Which collection the calibration was constructed in.\n",
    "genCollection = 'u/plazas/2022AUG04-ptc.comcam.FULLCOV.1'\n",
    "\n",
    "# Which collection containing the verification outputs.\n",
    "verifyCollection = 'u/plazas/DM-30171.PTC-verify-comcam.2022AUG04.2'"
   ]
  },
  {
   "cell_type": "code",
   "execution_count": null,
   "id": "d893e570",
   "metadata": {},
   "outputs": [],
   "source": [
    "# Get butler and camera\n",
    "# the genCollection has the camera\n",
    "butler = dB.Butler(repository, collections=[genCollection,verifyCollection])\n",
    "camera = butler.get('camera', instrument=cameraName)\n",
    "numberDetectors = len(camera)"
   ]
  },
  {
   "cell_type": "code",
   "execution_count": null,
   "id": "38a7a80a",
   "metadata": {},
   "outputs": [],
   "source": [
    "# Get Run Statistics\n",
    "runStats = butler.get('verifyPtcStats', instrument=cameraName)\n",
    "runSuccess = runStats.pop('SUCCESS')"
   ]
  },
  {
   "cell_type": "code",
   "execution_count": null,
   "id": "10e52009",
   "metadata": {
    "scrolled": true
   },
   "outputs": [],
   "source": [
    "# Display summary table of tests and failure counts.\n",
    "utils.failureTable(runStats)"
   ]
  },
  {
   "cell_type": "code",
   "execution_count": null,
   "id": "c8bf1e72-5c7e-494a-a0ec-5abf786b129e",
   "metadata": {},
   "outputs": [],
   "source": [
    "# Noise failed, let's look at the values\n",
    "gainThreshold = 5  # percentage\n",
    "noiseThreshold = 5 # percentage\n",
    "for detector in camera:\n",
    "    detId = detector.getId()\n",
    "    calib = butler.get(\"ptc\", instrument=cameraName, detector=detId)\n",
    "    detector = camera[detId]\n",
    "    print (f\"Detector ID: {detId}\")\n",
    "    for amp in detector:\n",
    "        ampName = amp.getName()\n",
    "        diffGain = np.abs(calib.gain[ampName] - amp.getGain()) / amp.getGain()\n",
    "        diffNoise = np.abs(calib.noise[ampName] - amp.getReadNoise()) / amp.getReadNoise()\n",
    "        testGain = bool(diffGain < gainThreshold)\n",
    "        testNoise = bool(diffNoise < noiseThreshold)\n",
    "        if testNoise:\n",
    "            print ('FAILURE NOISE:', ampName, diffNoise , calib.noise[ampName], amp.getReadNoise())\n",
    "    print(\" \")"
   ]
  },
  {
   "cell_type": "code",
   "execution_count": null,
   "id": "0fea4433",
   "metadata": {},
   "outputs": [],
   "source": [
    "# Gain, noise, turnoff, and a00 values are saved as 'AMP' statistics\n",
    "# The noise values from the fit are not very good, providing insight into why the NOISE \n",
    "# tests failed. \n",
    "for detId in range(numberDetectors):\n",
    "    detStats = butler.get(\"verifyPtcDetStats\", instrument=cameraName, detector=detId)\n",
    "    print (detId, detStats)"
   ]
  },
  {
   "cell_type": "code",
   "execution_count": null,
   "id": "d753ba5d-e396-43f7-97c3-03c7db5bcdfb",
   "metadata": {},
   "outputs": [],
   "source": [
    "# Plot PTCs\n",
    "if interactive:\n",
    "    for detId in range(numberDetectors): \n",
    "        ptc = butler.get('ptc', instrument=cameraName, detector=detId)\n",
    "        continueDisplay=True\n",
    "        for amp in np.unique(ptc.ampNames):\n",
    "            plt.scatter(ptc.rawMeans[amp], ptc.rawVars[amp], marker='o', label=\"PTC-raw\")\n",
    "            plt.scatter(ptc.finalMeans[amp], ptc.finalVars[amp], marker='+', label=\"PTC\")\n",
    "            plt.show()\n",
    "            continueDisplay, skipNumber = utils.interactiveBlock(f\"{exposureId} {detector.getName()}\", \n",
    "                                                                 detStats)\n",
    "            if continueDisplay is False:\n",
    "                break\n",
    "    if continueDisplay is False:\n",
    "        break"
   ]
  }
 ],
 "metadata": {
  "kernelspec": {
   "display_name": "LSST",
   "language": "python",
   "name": "lsst"
  },
  "language_info": {
   "codemirror_mode": {
    "name": "ipython",
    "version": 3
   },
   "file_extension": ".py",
   "mimetype": "text/x-python",
   "name": "python",
   "nbconvert_exporter": "python",
   "pygments_lexer": "ipython3",
   "version": "3.10.9"
  }
 },
 "nbformat": 4,
 "nbformat_minor": 5
}
